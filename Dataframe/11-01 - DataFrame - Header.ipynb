{
 "cells": [
  {
   "cell_type": "code",
   "execution_count": 1,
   "id": "49d787c5",
   "metadata": {},
   "outputs": [],
   "source": [
    "from pyspark.sql import SparkSession\n",
    "import pyspark.sql.functions as F\n",
    "from pyspark.sql.types import StructType, StructField, StringType, IntegerType"
   ]
  },
  {
   "cell_type": "code",
   "execution_count": 2,
   "id": "62964cea",
   "metadata": {},
   "outputs": [],
   "source": [
    "spark = (SparkSession.builder\n",
    "        .master(\"local[*]\")\n",
    "        .appName(\"Header\")\n",
    "        .getOrCreate())"
   ]
  },
  {
   "cell_type": "code",
   "execution_count": 3,
   "id": "0feb6b65",
   "metadata": {},
   "outputs": [
    {
     "name": "stderr",
     "output_type": "stream",
     "text": [
      "\r",
      "[Stage 0:>                                                          (0 + 1) / 1]\r",
      "\r",
      "                                                                                \r"
     ]
    }
   ],
   "source": [
    "df = (spark\n",
    "          .read\n",
    "          .format(\"csv\")\n",
    "          .option(\"header\", \"True\")\n",
    "          .option(\"inferSchema\", \"true\")\n",
    "          .option(\"delimiter\", \";\")\n",
    "          .load(\"csv/covid_basico.csv\"))"
   ]
  },
  {
   "cell_type": "code",
   "execution_count": 4,
   "id": "c3a3d15a",
   "metadata": {},
   "outputs": [
    {
     "name": "stdout",
     "output_type": "stream",
     "text": [
      "root\n",
      " |-- regiao: string (nullable = true)\n",
      " |-- estado: string (nullable = true)\n",
      " |-- data: string (nullable = true)\n",
      " |-- casosNovos: integer (nullable = true)\n",
      " |-- casosAcumulados: integer (nullable = true)\n",
      " |-- obitosNovos: integer (nullable = true)\n",
      " |-- obitosAcumulados: integer (nullable = true)\n",
      "\n"
     ]
    }
   ],
   "source": [
    "df.printSchema()"
   ]
  },
  {
   "cell_type": "code",
   "execution_count": 5,
   "id": "ae9ff864",
   "metadata": {},
   "outputs": [],
   "source": [
    "df = (spark\n",
    "          .read\n",
    "          .format(\"csv\")\n",
    "          .option(\"header\", \"False\")\n",
    "          .option(\"inferSchema\", \"true\")\n",
    "          .option(\"delimiter\", \";\")\n",
    "          .load(\"csv/covid_basico.csv\"))"
   ]
  },
  {
   "cell_type": "code",
   "execution_count": 6,
   "id": "fd1c4743",
   "metadata": {},
   "outputs": [
    {
     "name": "stdout",
     "output_type": "stream",
     "text": [
      "root\n",
      " |-- _c0: string (nullable = true)\n",
      " |-- _c1: string (nullable = true)\n",
      " |-- _c2: string (nullable = true)\n",
      " |-- _c3: string (nullable = true)\n",
      " |-- _c4: string (nullable = true)\n",
      " |-- _c5: string (nullable = true)\n",
      " |-- _c6: string (nullable = true)\n",
      "\n"
     ]
    }
   ],
   "source": [
    "df.printSchema()"
   ]
  },
  {
   "cell_type": "code",
   "execution_count": 16,
   "id": "41de3f2c",
   "metadata": {},
   "outputs": [],
   "source": [
    "df = (spark\n",
    "          .read\n",
    "          .format(\"csv\")\n",
    "          .option(\"header\", \"False\")\n",
    "          .option(\"inferSchema\", \"true\")\n",
    "          .option(\"delimiter\", \";\")\n",
    "          .load(\"csv/covid_basico.csv\").toDF(\"um\", \"dois\", \"tres\", \"quatro\", \"cinco\", \"seis\", \"sete\"))"
   ]
  },
  {
   "cell_type": "code",
   "execution_count": 8,
   "id": "5bda381e",
   "metadata": {},
   "outputs": [
    {
     "name": "stdout",
     "output_type": "stream",
     "text": [
      "root\n",
      " |-- um: string (nullable = true)\n",
      " |-- dois: string (nullable = true)\n",
      " |-- tres: string (nullable = true)\n",
      " |-- quatro: string (nullable = true)\n",
      " |-- cinco: string (nullable = true)\n",
      " |-- seis: string (nullable = true)\n",
      " |-- sete: string (nullable = true)\n",
      "\n"
     ]
    }
   ],
   "source": [
    "df.printSchema()"
   ]
  },
  {
   "cell_type": "code",
   "execution_count": 20,
   "id": "9c060bde",
   "metadata": {},
   "outputs": [],
   "source": [
    "df = (spark\n",
    "          .read\n",
    "          .format(\"csv\")\n",
    "          .option(\"header\", \"False\")\n",
    "          .option(\"inferSchema\", \"true\")\n",
    "          .option(\"delimiter\", \";\")\n",
    "          .load(\"csv/covid_basico.csv\"))"
   ]
  },
  {
   "cell_type": "code",
   "execution_count": 21,
   "id": "358fc30b",
   "metadata": {},
   "outputs": [
    {
     "name": "stdout",
     "output_type": "stream",
     "text": [
      "root\n",
      " |-- _c0: string (nullable = true)\n",
      " |-- _c1: string (nullable = true)\n",
      " |-- _c2: string (nullable = true)\n",
      " |-- _c3: string (nullable = true)\n",
      " |-- _c4: string (nullable = true)\n",
      " |-- _c5: string (nullable = true)\n",
      " |-- _c6: string (nullable = true)\n",
      "\n"
     ]
    }
   ],
   "source": [
    "df.printSchema()"
   ]
  },
  {
   "cell_type": "code",
   "execution_count": 22,
   "id": "51067a33",
   "metadata": {},
   "outputs": [],
   "source": [
    "df = (df.select(F.col(\"_c0\").alias(\"um\"),\n",
    "                 F.col(\"_c1\").alias(\"dois\"),\n",
    "                 F.col(\"_c2\").alias(\"tres\"),\n",
    "                 F.col(\"_c3\").alias(\"quatro\"),\n",
    "                 F.col(\"_c4\").alias(\"cinco\"),\n",
    "                 F.col(\"_c5\").alias(\"seis\"),\n",
    "                 F.col(\"_c6\").alias(\"sete\")))"
   ]
  },
  {
   "cell_type": "code",
   "execution_count": 24,
   "id": "e3e14aff",
   "metadata": {},
   "outputs": [
    {
     "name": "stdout",
     "output_type": "stream",
     "text": [
      "root\n",
      " |-- um: string (nullable = true)\n",
      " |-- dois: string (nullable = true)\n",
      " |-- tres: string (nullable = true)\n",
      " |-- quatro: string (nullable = true)\n",
      " |-- cinco: string (nullable = true)\n",
      " |-- seis: string (nullable = true)\n",
      " |-- sete: string (nullable = true)\n",
      "\n"
     ]
    }
   ],
   "source": [
    "df.printSchema()"
   ]
  }
 ],
 "metadata": {
  "kernelspec": {
   "display_name": "Python 3 (ipykernel)",
   "language": "python",
   "name": "python3"
  },
  "language_info": {
   "codemirror_mode": {
    "name": "ipython",
    "version": 3
   },
   "file_extension": ".py",
   "mimetype": "text/x-python",
   "name": "python",
   "nbconvert_exporter": "python",
   "pygments_lexer": "ipython3",
   "version": "3.9.7"
  }
 },
 "nbformat": 4,
 "nbformat_minor": 5
}
