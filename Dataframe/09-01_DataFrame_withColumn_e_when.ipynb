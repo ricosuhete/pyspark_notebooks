{
 "cells": [
  {
   "cell_type": "code",
   "execution_count": 1,
   "id": "a620df20",
   "metadata": {},
   "outputs": [],
   "source": [
    "from pyspark.sql import SparkSession\n",
    "import pyspark.sql.functions as F\n",
    "from pyspark.sql.types import StructType, StructField, StringType, IntegerType"
   ]
  },
  {
   "cell_type": "code",
   "execution_count": 3,
   "id": "092c62a6",
   "metadata": {},
   "outputs": [],
   "source": [
    "spark = (SparkSession.builder\n",
    "        .master(\"local[3]\")\n",
    "        .appName(\"Withcolumn e when\")\n",
    "        .getOrCreate())"
   ]
  },
  {
   "cell_type": "code",
   "execution_count": 4,
   "id": "4b760eab",
   "metadata": {},
   "outputs": [
    {
     "name": "stderr",
     "output_type": "stream",
     "text": [
      "\r",
      "[Stage 0:>                                                          (0 + 1) / 1]\r",
      "\r",
      "                                                                                \r"
     ]
    }
   ],
   "source": [
    "df = (spark\n",
    "          .read\n",
    "          .format(\"csv\")\n",
    "          .option(\"header\",\"true\")\n",
    "          .option(\"inferSchema\",\"true\")\n",
    "          .option(\"delimiter\",\";\")\n",
    "          .load(\"csv/covid_basico.csv\"))"
   ]
  },
  {
   "cell_type": "code",
   "execution_count": 5,
   "id": "ae725601",
   "metadata": {},
   "outputs": [
    {
     "name": "stdout",
     "output_type": "stream",
     "text": [
      "root\n",
      " |-- regiao: string (nullable = true)\n",
      " |-- estado: string (nullable = true)\n",
      " |-- data: string (nullable = true)\n",
      " |-- casosNovos: integer (nullable = true)\n",
      " |-- casosAcumulados: integer (nullable = true)\n",
      " |-- obitosNovos: integer (nullable = true)\n",
      " |-- obitosAcumulados: integer (nullable = true)\n",
      "\n"
     ]
    }
   ],
   "source": [
    "df.printSchema()"
   ]
  },
  {
   "cell_type": "code",
   "execution_count": 6,
   "id": "1a883968",
   "metadata": {},
   "outputs": [],
   "source": [
    "df_status_casos_novos = (df.withColumn(\"Status\",\n",
    "                             F.when(F.col(\"casosNovos\") > 0,\n",
    "                             F.concat(df.casosNovos, F.lit(\" casos novos\"))).\n",
    "                             otherwise(\"Sem casos novos\")).\n",
    "                             withColumn(\"Dia\", F.substring(F.col(\"data\"),9,2).cast(\"integer\")).\n",
    "                             withColumn(\"Mes\", F.substring(F.col(\"data\"), 6, 2).cast(\"integer\")).\n",
    "                             withColumn(\"Ano\", F.substring(F.col(\"data\"), 1, 4).cast(\"integer\"))\n",
    "                             )"
   ]
  },
  {
   "cell_type": "code",
   "execution_count": 7,
   "id": "9de4fb34",
   "metadata": {},
   "outputs": [
    {
     "name": "stdout",
     "output_type": "stream",
     "text": [
      "+------+------+----------+----------+---------------+-----------+----------------+---------------+---+---+----+\n",
      "|regiao|estado|      data|casosNovos|casosAcumulados|obitosNovos|obitosAcumulados|         Status|Dia|Mes| Ano|\n",
      "+------+------+----------+----------+---------------+-----------+----------------+---------------+---+---+----+\n",
      "| Norte|    RO|2020-01-30|         0|              0|          0|               0|Sem casos novos| 30|  1|2020|\n",
      "| Norte|    RO|2020-01-31|         0|              0|          0|               0|Sem casos novos| 31|  1|2020|\n",
      "| Norte|    RO|2020-02-01|         0|              0|          0|               0|Sem casos novos|  1|  2|2020|\n",
      "| Norte|    RO|2020-02-02|         0|              0|          0|               0|Sem casos novos|  2|  2|2020|\n",
      "| Norte|    RO|2020-02-03|         0|              0|          0|               0|Sem casos novos|  3|  2|2020|\n",
      "| Norte|    RO|2020-02-04|         0|              0|          0|               0|Sem casos novos|  4|  2|2020|\n",
      "| Norte|    RO|2020-02-05|         0|              0|          0|               0|Sem casos novos|  5|  2|2020|\n",
      "| Norte|    RO|2020-02-06|         0|              0|          0|               0|Sem casos novos|  6|  2|2020|\n",
      "| Norte|    RO|2020-02-07|         0|              0|          0|               0|Sem casos novos|  7|  2|2020|\n",
      "| Norte|    RO|2020-02-08|         0|              0|          0|               0|Sem casos novos|  8|  2|2020|\n",
      "+------+------+----------+----------+---------------+-----------+----------------+---------------+---+---+----+\n",
      "only showing top 10 rows\n",
      "\n"
     ]
    }
   ],
   "source": [
    "df_status_casos_novos.show(10)"
   ]
  },
  {
   "cell_type": "code",
   "execution_count": 8,
   "id": "bf46dc58",
   "metadata": {},
   "outputs": [
    {
     "name": "stdout",
     "output_type": "stream",
     "text": [
      "root\n",
      " |-- regiao: string (nullable = true)\n",
      " |-- estado: string (nullable = true)\n",
      " |-- data: string (nullable = true)\n",
      " |-- casosNovos: integer (nullable = true)\n",
      " |-- casosAcumulados: integer (nullable = true)\n",
      " |-- obitosNovos: integer (nullable = true)\n",
      " |-- obitosAcumulados: integer (nullable = true)\n",
      " |-- Status: string (nullable = true)\n",
      " |-- Dia: integer (nullable = true)\n",
      " |-- Mes: integer (nullable = true)\n",
      " |-- Ano: integer (nullable = true)\n",
      "\n"
     ]
    }
   ],
   "source": [
    "df_status_casos_novos.printSchema()"
   ]
  }
 ],
 "metadata": {
  "kernelspec": {
   "display_name": "Python 3 (ipykernel)",
   "language": "python",
   "name": "python3"
  },
  "language_info": {
   "codemirror_mode": {
    "name": "ipython",
    "version": 3
   },
   "file_extension": ".py",
   "mimetype": "text/x-python",
   "name": "python",
   "nbconvert_exporter": "python",
   "pygments_lexer": "ipython3",
   "version": "3.9.7"
  }
 },
 "nbformat": 4,
 "nbformat_minor": 5
}
