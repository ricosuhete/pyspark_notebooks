{
 "cells": [
  {
   "cell_type": "code",
   "execution_count": 18,
   "id": "fd136139",
   "metadata": {},
   "outputs": [],
   "source": [
    "from pyspark import SparkConf\n",
    "from pyspark.sql import SparkSession\n",
    "import pyspark.sql.functions as F\n"
   ]
  },
  {
   "cell_type": "code",
   "execution_count": 2,
   "id": "5d1139c9",
   "metadata": {},
   "outputs": [],
   "source": [
    "spark = SparkSession.builder.master(\"local[*]\").appName(\"Dataframe - withColumn\").getOrCreate()"
   ]
  },
  {
   "cell_type": "code",
   "execution_count": 3,
   "id": "128c6f8c",
   "metadata": {},
   "outputs": [
    {
     "name": "stdout",
     "output_type": "stream",
     "text": [
      "<pyspark.sql.session.SparkSession object at 0x7f3198886c10>\n"
     ]
    }
   ],
   "source": [
    "print(spark)"
   ]
  },
  {
   "cell_type": "code",
   "execution_count": 4,
   "id": "d7cc79c0",
   "metadata": {},
   "outputs": [
    {
     "data": {
      "text/html": [
       "\n",
       "            <div>\n",
       "                <p><b>SparkSession - hive</b></p>\n",
       "                \n",
       "        <div>\n",
       "            <p><b>SparkContext</b></p>\n",
       "\n",
       "            <p><a href=\"http://192.168.0.11:4040\">Spark UI</a></p>\n",
       "\n",
       "            <dl>\n",
       "              <dt>Version</dt>\n",
       "                <dd><code>v3.2.0</code></dd>\n",
       "              <dt>Master</dt>\n",
       "                <dd><code>local[*]</code></dd>\n",
       "              <dt>AppName</dt>\n",
       "                <dd><code>PySparkShell</code></dd>\n",
       "            </dl>\n",
       "        </div>\n",
       "        \n",
       "            </div>\n",
       "        "
      ],
      "text/plain": [
       "<pyspark.sql.session.SparkSession at 0x7f3198886c10>"
      ]
     },
     "execution_count": 4,
     "metadata": {},
     "output_type": "execute_result"
    }
   ],
   "source": [
    "spark"
   ]
  },
  {
   "cell_type": "code",
   "execution_count": 5,
   "id": "509dc69b",
   "metadata": {},
   "outputs": [],
   "source": [
    "df = (\n",
    "    spark.read\n",
    "    .format(\"csv\")\n",
    "    .option(\"header\", \"true\")\n",
    "    .option(\"delimiter\", \",\")\n",
    "    .option(\"infeSchema\", \"true\")\n",
    "    .load(\"csv/AnnualTicketSales.csv\")\n",
    "     )"
   ]
  },
  {
   "cell_type": "code",
   "execution_count": 6,
   "id": "43dc4203",
   "metadata": {},
   "outputs": [
    {
     "name": "stdout",
     "output_type": "stream",
     "text": [
      "+----+--------------+----------------+-----------------------------------+--------------------+----+\n",
      "|YEAR|  TICKETS SOLD|TOTAL BOX OFFICE|TOTAL INFLATION ADJUSTED BOX OFFICE|AVERAGE TICKET PRICE| _c5|\n",
      "+----+--------------+----------------+-----------------------------------+--------------------+----+\n",
      "|2021|  42,37,74,881|  $3,881,777,912|                     $3,881,777,912|               $9.16|null|\n",
      "|2020|  22,36,38,958|  $2,048,534,616|                     $2,048,534,616|               $9.16|null|\n",
      "|2019|1,22,85,41,629| $11,253,443,955|                    $11,253,444,050|               $9.16|null|\n",
      "|2018|1,31,15,36,128| $11,948,096,650|                    $12,013,670,952|               $9.11|null|\n",
      "|2017|1,22,56,39,761| $10,993,991,460|                    $11,226,860,216|               $8.97|null|\n",
      "|2016|1,30,25,56,378| $11,267,115,924|                    $11,931,416,424|               $8.65|null|\n",
      "|2015|1,32,33,56,776| $11,155,900,636|                    $12,121,948,075|               $8.43|null|\n",
      "|2014|1,25,74,02,920| $10,272,985,008|                    $11,517,810,744|               $8.17|null|\n",
      "|2013|1,33,91,68,926| $10,887,446,341|                    $12,266,787,382|               $8.13|null|\n",
      "|2012|1,38,09,21,942| $10,992,141,616|                    $12,649,244,986|               $7.96|null|\n",
      "|2011|1,28,29,15,168| $10,173,519,704|                    $11,751,502,955|               $7.93|null|\n",
      "|2010|1,32,85,49,021| $10,482,254,025|                    $12,169,509,032|               $7.89|null|\n",
      "|2009|1,41,85,67,388| $10,639,257,284|                    $12,994,051,137|               $7.50|null|\n",
      "|2008|1,35,80,42,073|  $9,750,744,148|                    $12,439,665,380|               $7.18|null|\n",
      "|2007|1,42,00,36,680|  $9,769,854,914|                    $13,007,535,993|               $6.88|null|\n",
      "|2006|1,39,87,38,283|  $9,161,738,221|                    $12,812,442,671|               $6.55|null|\n",
      "|2005|1,37,29,80,280|  $8,800,805,718|                    $12,576,499,367|               $6.41|null|\n",
      "|2004|1,49,56,51,298|  $9,287,996,519|                    $13,700,165,883|               $6.21|null|\n",
      "|2003|1,52,45,89,620|  $9,193,277,289|                    $13,965,240,914|               $6.03|null|\n",
      "|2002|1,57,57,56,527|  $9,155,147,215|                    $14,433,929,789|               $5.81|null|\n",
      "+----+--------------+----------------+-----------------------------------+--------------------+----+\n",
      "only showing top 20 rows\n",
      "\n"
     ]
    },
    {
     "name": "stderr",
     "output_type": "stream",
     "text": [
      "22/01/07 19:16:40 WARN CSVHeaderChecker: CSV header does not conform to the schema.\n",
      " Header: YEAR, TICKETS SOLD, TOTAL BOX OFFICE, TOTAL INFLATION ADJUSTED BOX OFFICE, AVERAGE TICKET PRICE, \n",
      " Schema: YEAR, TICKETS SOLD, TOTAL BOX OFFICE, TOTAL INFLATION ADJUSTED BOX OFFICE, AVERAGE TICKET PRICE, _c5\n",
      "Expected: _c5 but found: \n",
      "CSV file: file:///home/ricardo/Documentos/Spark/csv/AnnualTicketSales.csv\n"
     ]
    }
   ],
   "source": [
    "df.show()"
   ]
  },
  {
   "cell_type": "code",
   "execution_count": 7,
   "id": "17791994",
   "metadata": {
    "scrolled": true
   },
   "outputs": [],
   "source": [
    "df = df.drop(\"_c5\")"
   ]
  },
  {
   "cell_type": "code",
   "execution_count": 8,
   "id": "672ddc9b",
   "metadata": {},
   "outputs": [
    {
     "name": "stdout",
     "output_type": "stream",
     "text": [
      "+----+--------------+----------------+-----------------------------------+--------------------+\n",
      "|YEAR|  TICKETS SOLD|TOTAL BOX OFFICE|TOTAL INFLATION ADJUSTED BOX OFFICE|AVERAGE TICKET PRICE|\n",
      "+----+--------------+----------------+-----------------------------------+--------------------+\n",
      "|2021|  42,37,74,881|  $3,881,777,912|                     $3,881,777,912|               $9.16|\n",
      "|2020|  22,36,38,958|  $2,048,534,616|                     $2,048,534,616|               $9.16|\n",
      "|2019|1,22,85,41,629| $11,253,443,955|                    $11,253,444,050|               $9.16|\n",
      "|2018|1,31,15,36,128| $11,948,096,650|                    $12,013,670,952|               $9.11|\n",
      "|2017|1,22,56,39,761| $10,993,991,460|                    $11,226,860,216|               $8.97|\n",
      "|2016|1,30,25,56,378| $11,267,115,924|                    $11,931,416,424|               $8.65|\n",
      "|2015|1,32,33,56,776| $11,155,900,636|                    $12,121,948,075|               $8.43|\n",
      "|2014|1,25,74,02,920| $10,272,985,008|                    $11,517,810,744|               $8.17|\n",
      "|2013|1,33,91,68,926| $10,887,446,341|                    $12,266,787,382|               $8.13|\n",
      "|2012|1,38,09,21,942| $10,992,141,616|                    $12,649,244,986|               $7.96|\n",
      "|2011|1,28,29,15,168| $10,173,519,704|                    $11,751,502,955|               $7.93|\n",
      "|2010|1,32,85,49,021| $10,482,254,025|                    $12,169,509,032|               $7.89|\n",
      "|2009|1,41,85,67,388| $10,639,257,284|                    $12,994,051,137|               $7.50|\n",
      "|2008|1,35,80,42,073|  $9,750,744,148|                    $12,439,665,380|               $7.18|\n",
      "|2007|1,42,00,36,680|  $9,769,854,914|                    $13,007,535,993|               $6.88|\n",
      "|2006|1,39,87,38,283|  $9,161,738,221|                    $12,812,442,671|               $6.55|\n",
      "|2005|1,37,29,80,280|  $8,800,805,718|                    $12,576,499,367|               $6.41|\n",
      "|2004|1,49,56,51,298|  $9,287,996,519|                    $13,700,165,883|               $6.21|\n",
      "|2003|1,52,45,89,620|  $9,193,277,289|                    $13,965,240,914|               $6.03|\n",
      "|2002|1,57,57,56,527|  $9,155,147,215|                    $14,433,929,789|               $5.81|\n",
      "+----+--------------+----------------+-----------------------------------+--------------------+\n",
      "only showing top 20 rows\n",
      "\n"
     ]
    }
   ],
   "source": [
    "df.show()"
   ]
  },
  {
   "cell_type": "code",
   "execution_count": 9,
   "id": "eb52c17b",
   "metadata": {},
   "outputs": [],
   "source": [
    "df = df.withColumn(\"TICKETS SOLD\", F.regexp_replace(\"TICKETS SOLD\", \"\\,\", \"\"))"
   ]
  },
  {
   "cell_type": "code",
   "execution_count": 10,
   "id": "f65edc25",
   "metadata": {},
   "outputs": [],
   "source": [
    "df = df.withColumn(\"TOTAL BOX OFFICE\", F.regexp_replace(\"TOTAL BOX OFFICE\", \"\\$\", \"\"))"
   ]
  },
  {
   "cell_type": "code",
   "execution_count": 11,
   "id": "f913d479",
   "metadata": {},
   "outputs": [],
   "source": [
    "df = df.withColumn(\"TOTAL BOX OFFICE\", F.regexp_replace(\"TOTAL BOX OFFICE\", \"\\,\", \"\"))"
   ]
  },
  {
   "cell_type": "code",
   "execution_count": 12,
   "id": "c0aa1f1c",
   "metadata": {},
   "outputs": [],
   "source": [
    "df = df.withColumn(\"TOTAL INFLATION ADJUSTED BOX OFFICE\", F.regexp_replace(\"TOTAL INFLATION ADJUSTED BOX OFFICE\", \"\\$\", \"\"))"
   ]
  },
  {
   "cell_type": "code",
   "execution_count": 13,
   "id": "501f4e3a",
   "metadata": {},
   "outputs": [],
   "source": [
    "df = df.withColumn(\"TOTAL INFLATION ADJUSTED BOX OFFICE\", F.regexp_replace(\"TOTAL INFLATION ADJUSTED BOX OFFICE\", \"\\,\", \"\"))"
   ]
  },
  {
   "cell_type": "code",
   "execution_count": 14,
   "id": "84023932",
   "metadata": {},
   "outputs": [],
   "source": [
    "df = df.withColumn(\"AVERAGE TICKET PRICE\", F.regexp_replace(\"AVERAGE TICKET PRICE\", \"\\$\", \"\"))"
   ]
  },
  {
   "cell_type": "code",
   "execution_count": 15,
   "id": "7a8acb8d",
   "metadata": {},
   "outputs": [],
   "source": [
    "df = df.select(df[\"YEAR\"].alias(\"Ano\"),\n",
    "            df[\"TICKETS SOLD\"].cast(\"float\").alias(\"Tickets_Vendidos\"),\n",
    "            df[\"TOTAL BOX OFFICE\"].cast(\"float\").alias(\"Total_deCaixa\"),\n",
    "            df[\"TOTAL INFLATION ADJUSTED BOX OFFICE\"].cast(\"float\").alias(\"Total_deCaixa_Ajust_Inflacao\"),\n",
    "            df[\"AVERAGE TICKET PRICE\"].cast(\"float\").alias(\"Preco_Medio_Ticket\") )\n",
    "    "
   ]
  },
  {
   "cell_type": "code",
   "execution_count": 20,
   "id": "b9a89cc8",
   "metadata": {},
   "outputs": [
    {
     "name": "stdout",
     "output_type": "stream",
     "text": [
      "root\n",
      " |-- Ano: string (nullable = true)\n",
      " |-- Tickets_Vendidos: float (nullable = true)\n",
      " |-- Total_deCaixa: float (nullable = true)\n",
      " |-- Total_deCaixa_Ajust_Inflacao: float (nullable = true)\n",
      " |-- Preco_Medio_Ticket: float (nullable = true)\n",
      "\n"
     ]
    }
   ],
   "source": [
    "df.printSchema()"
   ]
  },
  {
   "cell_type": "code",
   "execution_count": 93,
   "id": "897b863b",
   "metadata": {},
   "outputs": [
    {
     "name": "stdout",
     "output_type": "stream",
     "text": [
      "+-------------+----------------------------+\n",
      "|Total_deCaixa|Total_deCaixa_Ajust_Inflacao|\n",
      "+-------------+----------------------------+\n",
      "| 3.88177792E9|                3.88177792E9|\n",
      "| 2.04853466E9|                2.04853466E9|\n",
      "|1.12534436E10|               1.12534436E10|\n",
      "|1.19480965E10|               1.20136714E10|\n",
      "|1.09939917E10|               1.12268605E10|\n",
      "| 1.1267116E10|               1.19314166E10|\n",
      "|1.11559004E10|               1.21219482E10|\n",
      "|1.02729851E10|               1.15178107E10|\n",
      "|1.08874465E10|               1.22667878E10|\n",
      "|1.09921413E10|               1.26492447E10|\n",
      "+-------------+----------------------------+\n",
      "only showing top 10 rows\n",
      "\n"
     ]
    }
   ],
   "source": [
    "df.select(F.col(\"Total_deCaixa\"),F.col(\"Total_deCaixa_Ajust_Inflacao\")).filter(F.col(\"Total_deCaixa\") > \"1.E8\").show(10)"
   ]
  },
  {
   "cell_type": "code",
   "execution_count": 104,
   "id": "2e0ad00d",
   "metadata": {},
   "outputs": [],
   "source": [
    "df2 = df.withColumn(\"diferenca_inflacao\", (F.col(\"Total_deCaixa_Ajust_Inflacao\")) - (F.col(\"Total_deCaixa\")))"
   ]
  },
  {
   "cell_type": "code",
   "execution_count": 105,
   "id": "ae418dec",
   "metadata": {},
   "outputs": [
    {
     "name": "stdout",
     "output_type": "stream",
     "text": [
      "+----+----------------+-------------+----------------------------+------------------+------------------+\n",
      "| Ano|Tickets_Vendidos|Total_deCaixa|Total_deCaixa_Ajust_Inflacao|Preco_Medio_Ticket|diferenca_inflacao|\n",
      "+----+----------------+-------------+----------------------------+------------------+------------------+\n",
      "|2021|     4.2377488E8| 3.88177792E9|                3.88177792E9|              9.16|               0.0|\n",
      "|2020|     2.2363896E8| 2.04853466E9|                2.04853466E9|              9.16|               0.0|\n",
      "|2019|    1.22854157E9|1.12534436E10|               1.12534436E10|              9.16|               0.0|\n",
      "|2018|    1.31153613E9|1.19480965E10|               1.20136714E10|              9.11|       6.5574912E7|\n",
      "|2017|    1.22563981E9|1.09939917E10|               1.12268605E10|              8.97|      2.32868864E8|\n",
      "|2016|    1.30255642E9| 1.1267116E10|               1.19314166E10|              8.65|       6.6430054E8|\n",
      "|2015|     1.3233568E9|1.11559004E10|               1.21219482E10|              8.43|       9.6604774E8|\n",
      "|2014|    1.25740288E9|1.02729851E10|               1.15178107E10|              8.17|       1.2448256E9|\n",
      "|2013|     1.3391689E9|1.08874465E10|               1.22667878E10|              8.13|      1.37934131E9|\n",
      "|2012|    1.38092198E9|1.09921413E10|               1.26492447E10|              7.96|      1.65710336E9|\n",
      "|2011|     1.2829152E9|1.01735199E10|               1.17515028E10|              7.93|      1.57798298E9|\n",
      "|2010|    1.32854899E9|1.04822538E10|               1.21695089E10|              7.89|      1.68725504E9|\n",
      "|2009|    1.41856742E9|1.06392576E10|               1.29940511E10|               7.5|      2.35479347E9|\n",
      "|2008|    1.35804211E9|  9.7507441E9|               1.24396657E10|              7.18|       2.6889216E9|\n",
      "|2007|    1.42003674E9|   9.769855E9|               1.30075361E10|              6.88|      3.23768115E9|\n",
      "|2006|     1.3987383E9|  9.1617382E9|               1.28124426E10|              6.55|      3.65070438E9|\n",
      "|2005|    1.37298022E9|  8.8008059E9|               1.25764997E10|              6.41|      3.77569382E9|\n",
      "|2004|    1.49565133E9|  9.2879964E9|               1.37001656E10|              6.21|       4.4121692E9|\n",
      "|2003|    1.52458957E9|  9.1932774E9|               1.39652413E10|              6.03|       4.7719639E9|\n",
      "|2002|    1.57575654E9|  9.1551468E9|               1.44339302E10|              5.81|       5.2787835E9|\n",
      "+----+----------------+-------------+----------------------------+------------------+------------------+\n",
      "only showing top 20 rows\n",
      "\n"
     ]
    }
   ],
   "source": [
    "df2.show()"
   ]
  }
 ],
 "metadata": {
  "kernelspec": {
   "display_name": "Python 3 (ipykernel)",
   "language": "python",
   "name": "python3"
  },
  "language_info": {
   "codemirror_mode": {
    "name": "ipython",
    "version": 3
   },
   "file_extension": ".py",
   "mimetype": "text/x-python",
   "name": "python",
   "nbconvert_exporter": "python",
   "pygments_lexer": "ipython3",
   "version": "3.9.7"
  }
 },
 "nbformat": 4,
 "nbformat_minor": 5
}

