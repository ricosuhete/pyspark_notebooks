{
 "cells": [
  {
   "cell_type": "code",
   "execution_count": 0,
   "metadata": {
    "application/vnd.databricks.v1+cell": {
     "inputWidgets": {},
     "nuid": "c03b3a9c-56ef-435f-9a1a-ba7ce53389fa",
     "showTitle": false,
     "title": ""
    }
   },
   "outputs": [
    {
     "data": {
      "text/plain": [
       "root\n",
       " |-- id: long (nullable = true)\n",
       " |-- name: string (nullable = true)\n",
       " |-- salary: long (nullable = true)\n",
       "\n",
       "+---+--------+------+\n",
       "|id |name    |salary|\n",
       "+---+--------+------+\n",
       "|1  |Anderson|10000 |\n",
       "|2  |Kenedy  |20000 |\n",
       "|3  |Billy   |23000 |\n",
       "|4  |Andy    |23000 |\n",
       "|5  |Mary    |24000 |\n",
       "|6  |Eduardo |19000 |\n",
       "|7  |Mendes  |15000 |\n",
       "|8  |Keyth   |18000 |\n",
       "|9  |Truman  |21000 |\n",
       "+---+--------+------+\n",
       "\n"
      ]
     },
     "metadata": {
      "application/vnd.databricks.v1+output": {
       "addedWidgets": {},
       "arguments": {},
       "data": "root\n |-- id: long (nullable = true)\n |-- name: string (nullable = true)\n |-- salary: long (nullable = true)\n\n+---+--------+------+\n|id |name    |salary|\n+---+--------+------+\n|1  |Anderson|10000 |\n|2  |Kenedy  |20000 |\n|3  |Billy   |23000 |\n|4  |Andy    |23000 |\n|5  |Mary    |24000 |\n|6  |Eduardo |19000 |\n|7  |Mendes  |15000 |\n|8  |Keyth   |18000 |\n|9  |Truman  |21000 |\n+---+--------+------+\n\n",
       "datasetInfos": [],
       "metadata": {},
       "removedWidgets": [],
       "type": "ansi"
      }
     },
     "output_type": "display_data"
    }
   ],
   "source": [
    "import pyspark.sql.functions as F\n",
    "\n",
    "data = [\n",
    "    (1, \"Anderson\", 10000),\n",
    "    (2, \"Kenedy\", 20000),\n",
    "    (3, \"Billy\", 23000),\n",
    "    (4, \"Andy\", 23000),\n",
    "    (5, \"Mary\", 24000),\n",
    "    (6, \"Eduardo\", 19000),\n",
    "    (7, \"Mendes\", 15000),\n",
    "    (8, \"Keyth\", 18000),\n",
    "    (9, \"Truman\", 21000),\n",
    "]\n",
    "\n",
    "schema = [\"id\", \"name\", \"salary\"]\n",
    "df1 = spark.createDataFrame(data=data, schema=schema)\n",
    "df1.printSchema()\n",
    "df1.show(truncate=False)\n"
   ]
  },
  {
   "cell_type": "code",
   "execution_count": 0,
   "metadata": {
    "application/vnd.databricks.v1+cell": {
     "inputWidgets": {},
     "nuid": "b9d17f48-b50b-443a-abb9-2cb3ba55f545",
     "showTitle": false,
     "title": ""
    }
   },
   "outputs": [
    {
     "data": {
      "text/plain": [
       "root\n",
       " |-- id: long (nullable = true)\n",
       " |-- place: string (nullable = true)\n",
       " |-- country: string (nullable = true)\n",
       "\n",
       "+---+----------+---------+\n",
       "|id |place     |country  |\n",
       "+---+----------+---------+\n",
       "|1  |Delhi     |India    |\n",
       "|2  |Tamil nadu|India    |\n",
       "|3  |London    |UK       |\n",
       "|4  |Sydney    |Australia|\n",
       "|8  |New York  |USA      |\n",
       "|9  |California|USA      |\n",
       "|10 |New Jersey|USA      |\n",
       "|11 |Texas     |USA      |\n",
       "|12 |Chicago   |USA      |\n",
       "+---+----------+---------+\n",
       "\n"
      ]
     },
     "metadata": {
      "application/vnd.databricks.v1+output": {
       "addedWidgets": {},
       "arguments": {},
       "data": "root\n |-- id: long (nullable = true)\n |-- place: string (nullable = true)\n |-- country: string (nullable = true)\n\n+---+----------+---------+\n|id |place     |country  |\n+---+----------+---------+\n|1  |Delhi     |India    |\n|2  |Tamil nadu|India    |\n|3  |London    |UK       |\n|4  |Sydney    |Australia|\n|8  |New York  |USA      |\n|9  |California|USA      |\n|10 |New Jersey|USA      |\n|11 |Texas     |USA      |\n|12 |Chicago   |USA      |\n+---+----------+---------+\n\n",
       "datasetInfos": [],
       "metadata": {},
       "removedWidgets": [],
       "type": "ansi"
      }
     },
     "output_type": "display_data"
    }
   ],
   "source": [
    "import pyspark.sql.functions as F\n",
    "\n",
    "data = [\n",
    "    (1, \"Delhi\", \"India\"),\n",
    "    (2, \"Tamil nadu\", \"India\"),\n",
    "    (3, \"London\", \"UK\"),\n",
    "    (4, \"Sydney\", \"Australia\"),\n",
    "    (8, \"New York\", \"USA\"),\n",
    "    (9, \"California\", \"USA\"),\n",
    "    (10, \"New Jersey\", \"USA\"),\n",
    "    (11, \"Texas\", \"USA\"),\n",
    "    (12, \"Chicago\", \"USA\"),\n",
    "]\n",
    "\n",
    "schema = [\"id\", \"place\", \"country\"]\n",
    "df2 = spark.createDataFrame(data=data, schema=schema)\n",
    "df2.printSchema()\n",
    "df2.show(truncate=False)\n"
   ]
  },
  {
   "cell_type": "code",
   "execution_count": 0,
   "metadata": {
    "application/vnd.databricks.v1+cell": {
     "inputWidgets": {},
     "nuid": "e5365673-c186-4a65-9e53-8512e6c3bebb",
     "showTitle": true,
     "title": "Inner join"
    }
   },
   "outputs": [
    {
     "data": {
      "text/plain": [
       "+---+--------+------+----------+---------+\n",
       "|id |name    |salary|place     |country  |\n",
       "+---+--------+------+----------+---------+\n",
       "|1  |Anderson|10000 |Delhi     |India    |\n",
       "|2  |Kenedy  |20000 |Tamil nadu|India    |\n",
       "|3  |Billy   |23000 |London    |UK       |\n",
       "|4  |Andy    |23000 |Sydney    |Australia|\n",
       "|8  |Keyth   |18000 |New York  |USA      |\n",
       "|9  |Truman  |21000 |California|USA      |\n",
       "+---+--------+------+----------+---------+\n",
       "\n"
      ]
     },
     "metadata": {
      "application/vnd.databricks.v1+output": {
       "addedWidgets": {},
       "arguments": {},
       "data": "+---+--------+------+----------+---------+\n|id |name    |salary|place     |country  |\n+---+--------+------+----------+---------+\n|1  |Anderson|10000 |Delhi     |India    |\n|2  |Kenedy  |20000 |Tamil nadu|India    |\n|3  |Billy   |23000 |London    |UK       |\n|4  |Andy    |23000 |Sydney    |Australia|\n|8  |Keyth   |18000 |New York  |USA      |\n|9  |Truman  |21000 |California|USA      |\n+---+--------+------+----------+---------+\n\n",
       "datasetInfos": [],
       "metadata": {},
       "removedWidgets": [],
       "type": "ansi"
      }
     },
     "output_type": "display_data"
    }
   ],
   "source": [
    "df_inner = df1.join(df2, on=['id'], how='inner')\n",
    "df_inner.show(truncate=False)"
   ]
  },
  {
   "cell_type": "code",
   "execution_count": 0,
   "metadata": {
    "application/vnd.databricks.v1+cell": {
     "inputWidgets": {},
     "nuid": "0234bcf0-42ad-4279-9f35-88427361e69f",
     "showTitle": true,
     "title": "Outer join"
    }
   },
   "outputs": [
    {
     "data": {
      "text/plain": [
       "+---+--------+------+----------+---------+\n",
       "|id |name    |salary|place     |country  |\n",
       "+---+--------+------+----------+---------+\n",
       "|1  |Anderson|10000 |Delhi     |India    |\n",
       "|2  |Kenedy  |20000 |Tamil nadu|India    |\n",
       "|3  |Billy   |23000 |London    |UK       |\n",
       "|4  |Andy    |23000 |Sydney    |Australia|\n",
       "|5  |Mary    |24000 |null      |null     |\n",
       "|6  |Eduardo |19000 |null      |null     |\n",
       "|7  |Mendes  |15000 |null      |null     |\n",
       "|8  |Keyth   |18000 |New York  |USA      |\n",
       "|9  |Truman  |21000 |California|USA      |\n",
       "|10 |null    |null  |New Jersey|USA      |\n",
       "|11 |null    |null  |Texas     |USA      |\n",
       "|12 |null    |null  |Chicago   |USA      |\n",
       "+---+--------+------+----------+---------+\n",
       "\n"
      ]
     },
     "metadata": {
      "application/vnd.databricks.v1+output": {
       "addedWidgets": {},
       "arguments": {},
       "data": "+---+--------+------+----------+---------+\n|id |name    |salary|place     |country  |\n+---+--------+------+----------+---------+\n|1  |Anderson|10000 |Delhi     |India    |\n|2  |Kenedy  |20000 |Tamil nadu|India    |\n|3  |Billy   |23000 |London    |UK       |\n|4  |Andy    |23000 |Sydney    |Australia|\n|5  |Mary    |24000 |null      |null     |\n|6  |Eduardo |19000 |null      |null     |\n|7  |Mendes  |15000 |null      |null     |\n|8  |Keyth   |18000 |New York  |USA      |\n|9  |Truman  |21000 |California|USA      |\n|10 |null    |null  |New Jersey|USA      |\n|11 |null    |null  |Texas     |USA      |\n|12 |null    |null  |Chicago   |USA      |\n+---+--------+------+----------+---------+\n\n",
       "datasetInfos": [],
       "metadata": {},
       "removedWidgets": [],
       "type": "ansi"
      }
     },
     "output_type": "display_data"
    }
   ],
   "source": [
    "df_outer = df1.join(df2, on=['id'], how='outer')\n",
    "df_outer.show(truncate=False)"
   ]
  },
  {
   "cell_type": "code",
   "execution_count": 0,
   "metadata": {
    "application/vnd.databricks.v1+cell": {
     "inputWidgets": {},
     "nuid": "5281d470-f6f0-4c3a-85ce-aa2882ff0d48",
     "showTitle": true,
     "title": "Left join"
    }
   },
   "outputs": [
    {
     "data": {
      "text/plain": [
       "+---+--------+------+----------+---------+\n",
       "|id |name    |salary|place     |country  |\n",
       "+---+--------+------+----------+---------+\n",
       "|1  |Anderson|10000 |Delhi     |India    |\n",
       "|2  |Kenedy  |20000 |Tamil nadu|India    |\n",
       "|3  |Billy   |23000 |London    |UK       |\n",
       "|4  |Andy    |23000 |Sydney    |Australia|\n",
       "|5  |Mary    |24000 |null      |null     |\n",
       "|6  |Eduardo |19000 |null      |null     |\n",
       "|7  |Mendes  |15000 |null      |null     |\n",
       "|8  |Keyth   |18000 |New York  |USA      |\n",
       "|9  |Truman  |21000 |California|USA      |\n",
       "+---+--------+------+----------+---------+\n",
       "\n"
      ]
     },
     "metadata": {
      "application/vnd.databricks.v1+output": {
       "addedWidgets": {},
       "arguments": {},
       "data": "+---+--------+------+----------+---------+\n|id |name    |salary|place     |country  |\n+---+--------+------+----------+---------+\n|1  |Anderson|10000 |Delhi     |India    |\n|2  |Kenedy  |20000 |Tamil nadu|India    |\n|3  |Billy   |23000 |London    |UK       |\n|4  |Andy    |23000 |Sydney    |Australia|\n|5  |Mary    |24000 |null      |null     |\n|6  |Eduardo |19000 |null      |null     |\n|7  |Mendes  |15000 |null      |null     |\n|8  |Keyth   |18000 |New York  |USA      |\n|9  |Truman  |21000 |California|USA      |\n+---+--------+------+----------+---------+\n\n",
       "datasetInfos": [],
       "metadata": {},
       "removedWidgets": [],
       "type": "ansi"
      }
     },
     "output_type": "display_data"
    }
   ],
   "source": [
    "df_left = df1.join(df2, on=['id'], how='left')\n",
    "df_left.show(truncate=False)"
   ]
  },
  {
   "cell_type": "code",
   "execution_count": 0,
   "metadata": {
    "application/vnd.databricks.v1+cell": {
     "inputWidgets": {},
     "nuid": "e70277e4-742e-42c1-ab38-ead1f5e75a03",
     "showTitle": true,
     "title": "Right join"
    }
   },
   "outputs": [
    {
     "data": {
      "text/plain": [
       "+---+--------+------+----------+---------+\n",
       "|id |name    |salary|place     |country  |\n",
       "+---+--------+------+----------+---------+\n",
       "|1  |Anderson|10000 |Delhi     |India    |\n",
       "|2  |Kenedy  |20000 |Tamil nadu|India    |\n",
       "|3  |Billy   |23000 |London    |UK       |\n",
       "|4  |Andy    |23000 |Sydney    |Australia|\n",
       "|8  |Keyth   |18000 |New York  |USA      |\n",
       "|9  |Truman  |21000 |California|USA      |\n",
       "|10 |null    |null  |New Jersey|USA      |\n",
       "|11 |null    |null  |Texas     |USA      |\n",
       "|12 |null    |null  |Chicago   |USA      |\n",
       "+---+--------+------+----------+---------+\n",
       "\n"
      ]
     },
     "metadata": {
      "application/vnd.databricks.v1+output": {
       "addedWidgets": {},
       "arguments": {},
       "data": "+---+--------+------+----------+---------+\n|id |name    |salary|place     |country  |\n+---+--------+------+----------+---------+\n|1  |Anderson|10000 |Delhi     |India    |\n|2  |Kenedy  |20000 |Tamil nadu|India    |\n|3  |Billy   |23000 |London    |UK       |\n|4  |Andy    |23000 |Sydney    |Australia|\n|8  |Keyth   |18000 |New York  |USA      |\n|9  |Truman  |21000 |California|USA      |\n|10 |null    |null  |New Jersey|USA      |\n|11 |null    |null  |Texas     |USA      |\n|12 |null    |null  |Chicago   |USA      |\n+---+--------+------+----------+---------+\n\n",
       "datasetInfos": [],
       "metadata": {},
       "removedWidgets": [],
       "type": "ansi"
      }
     },
     "output_type": "display_data"
    }
   ],
   "source": [
    "df_right = df1.join(df2, on=['id'], how='right')\n",
    "df_right.show(truncate=False)"
   ]
  },
  {
   "cell_type": "code",
   "execution_count": 0,
   "metadata": {
    "application/vnd.databricks.v1+cell": {
     "inputWidgets": {},
     "nuid": "67174c5d-63f5-43ee-bee1-4b6ece818971",
     "showTitle": true,
     "title": "Left Anti join"
    }
   },
   "outputs": [
    {
     "data": {
      "text/plain": [
       "+---+-------+------+\n",
       "|id |name   |salary|\n",
       "+---+-------+------+\n",
       "|5  |Mary   |24000 |\n",
       "|6  |Eduardo|19000 |\n",
       "|7  |Mendes |15000 |\n",
       "+---+-------+------+\n",
       "\n"
      ]
     },
     "metadata": {
      "application/vnd.databricks.v1+output": {
       "addedWidgets": {},
       "arguments": {},
       "data": "+---+-------+------+\n|id |name   |salary|\n+---+-------+------+\n|5  |Mary   |24000 |\n|6  |Eduardo|19000 |\n|7  |Mendes |15000 |\n+---+-------+------+\n\n",
       "datasetInfos": [],
       "metadata": {},
       "removedWidgets": [],
       "type": "ansi"
      }
     },
     "output_type": "display_data"
    }
   ],
   "source": [
    "df_left_anti = df1.join(df2, on=['id'], how='left_anti')\n",
    "df_left_anti.show(truncate=False)"
   ]
  },
  {
   "cell_type": "code",
   "execution_count": 0,
   "metadata": {
    "application/vnd.databricks.v1+cell": {
     "inputWidgets": {},
     "nuid": "319128ee-a365-441d-8531-230606e17b19",
     "showTitle": true,
     "title": "Left Semi join "
    }
   },
   "outputs": [
    {
     "data": {
      "text/plain": [
       "+---+--------+------+\n",
       "|id |name    |salary|\n",
       "+---+--------+------+\n",
       "|1  |Anderson|10000 |\n",
       "|2  |Kenedy  |20000 |\n",
       "|3  |Billy   |23000 |\n",
       "|4  |Andy    |23000 |\n",
       "|8  |Keyth   |18000 |\n",
       "|9  |Truman  |21000 |\n",
       "+---+--------+------+\n",
       "\n"
      ]
     },
     "metadata": {
      "application/vnd.databricks.v1+output": {
       "addedWidgets": {},
       "arguments": {},
       "data": "+---+--------+------+\n|id |name    |salary|\n+---+--------+------+\n|1  |Anderson|10000 |\n|2  |Kenedy  |20000 |\n|3  |Billy   |23000 |\n|4  |Andy    |23000 |\n|8  |Keyth   |18000 |\n|9  |Truman  |21000 |\n+---+--------+------+\n\n",
       "datasetInfos": [],
       "metadata": {},
       "removedWidgets": [],
       "type": "ansi"
      }
     },
     "output_type": "display_data"
    }
   ],
   "source": [
    "df_left_semi = df1.join(df2, on=['id'], how='left_semi')\n",
    "df_left_semi.show(truncate=False)"
   ]
  },
  {
   "cell_type": "code",
   "execution_count": 0,
   "metadata": {
    "application/vnd.databricks.v1+cell": {
     "inputWidgets": {},
     "nuid": "12e46f55-a105-4b26-92c4-d10153e11611",
     "showTitle": true,
     "title": "Full join"
    }
   },
   "outputs": [
    {
     "data": {
      "text/plain": [
       "+---+--------+------+----------+---------+\n",
       "|id |name    |salary|place     |country  |\n",
       "+---+--------+------+----------+---------+\n",
       "|1  |Anderson|10000 |Delhi     |India    |\n",
       "|2  |Kenedy  |20000 |Tamil nadu|India    |\n",
       "|3  |Billy   |23000 |London    |UK       |\n",
       "|4  |Andy    |23000 |Sydney    |Australia|\n",
       "|5  |Mary    |24000 |null      |null     |\n",
       "|6  |Eduardo |19000 |null      |null     |\n",
       "|7  |Mendes  |15000 |null      |null     |\n",
       "|8  |Keyth   |18000 |New York  |USA      |\n",
       "|9  |Truman  |21000 |California|USA      |\n",
       "|10 |null    |null  |New Jersey|USA      |\n",
       "|11 |null    |null  |Texas     |USA      |\n",
       "|12 |null    |null  |Chicago   |USA      |\n",
       "+---+--------+------+----------+---------+\n",
       "\n"
      ]
     },
     "metadata": {
      "application/vnd.databricks.v1+output": {
       "addedWidgets": {},
       "arguments": {},
       "data": "+---+--------+------+----------+---------+\n|id |name    |salary|place     |country  |\n+---+--------+------+----------+---------+\n|1  |Anderson|10000 |Delhi     |India    |\n|2  |Kenedy  |20000 |Tamil nadu|India    |\n|3  |Billy   |23000 |London    |UK       |\n|4  |Andy    |23000 |Sydney    |Australia|\n|5  |Mary    |24000 |null      |null     |\n|6  |Eduardo |19000 |null      |null     |\n|7  |Mendes  |15000 |null      |null     |\n|8  |Keyth   |18000 |New York  |USA      |\n|9  |Truman  |21000 |California|USA      |\n|10 |null    |null  |New Jersey|USA      |\n|11 |null    |null  |Texas     |USA      |\n|12 |null    |null  |Chicago   |USA      |\n+---+--------+------+----------+---------+\n\n",
       "datasetInfos": [],
       "metadata": {},
       "removedWidgets": [],
       "type": "ansi"
      }
     },
     "output_type": "display_data"
    }
   ],
   "source": [
    "df_left_semi = df1.join(df2, on=['id'], how='full')\n",
    "df_left_semi.show(truncate=False)"
   ]
  },
  {
   "cell_type": "code",
   "execution_count": 0,
   "metadata": {
    "application/vnd.databricks.v1+cell": {
     "inputWidgets": {},
     "nuid": "b11f69f7-4e3e-4989-9883-d33c7c47ca6a",
     "showTitle": true,
     "title": "Anti join"
    }
   },
   "outputs": [
    {
     "data": {
      "text/plain": [
       "+---+-------+------+\n",
       "|id |name   |salary|\n",
       "+---+-------+------+\n",
       "|5  |Mary   |24000 |\n",
       "|6  |Eduardo|19000 |\n",
       "|7  |Mendes |15000 |\n",
       "+---+-------+------+\n",
       "\n"
      ]
     },
     "metadata": {
      "application/vnd.databricks.v1+output": {
       "addedWidgets": {},
       "arguments": {},
       "data": "+---+-------+------+\n|id |name   |salary|\n+---+-------+------+\n|5  |Mary   |24000 |\n|6  |Eduardo|19000 |\n|7  |Mendes |15000 |\n+---+-------+------+\n\n",
       "datasetInfos": [],
       "metadata": {},
       "removedWidgets": [],
       "type": "ansi"
      }
     },
     "output_type": "display_data"
    }
   ],
   "source": [
    "df_anti = df1.join(df2, on=['id'], how='anti')\n",
    "df_anti.show(truncate=False)"
   ]
  }
 ],
 "metadata": {
  "application/vnd.databricks.v1+notebook": {
   "dashboards": [],
   "language": "python",
   "notebookMetadata": {
    "pythonIndentUnit": 4
   },
   "notebookName": "aula09_join",
   "notebookOrigID": 3261836255702991,
   "widgets": {}
  },
  "kernelspec": {
   "display_name": "Python 3 (ipykernel)",
   "language": "python",
   "name": "python3"
  },
  "language_info": {
   "codemirror_mode": {
    "name": "ipython",
    "version": 3
   },
   "file_extension": ".py",
   "mimetype": "text/x-python",
   "name": "python",
   "nbconvert_exporter": "python",
   "pygments_lexer": "ipython3",
   "version": "3.9.7"
  }
 },
 "nbformat": 4,
 "nbformat_minor": 1
}
