{
 "cells": [
  {
   "cell_type": "code",
   "execution_count": 0,
   "metadata": {
    "application/vnd.databricks.v1+cell": {
     "inputWidgets": {},
     "nuid": "5aac8cfe-fcb4-4e32-ab00-b3db74d53934",
     "showTitle": false,
     "title": ""
    }
   },
   "outputs": [
    {
     "data": {
      "text/plain": [
       "root\n",
       " |-- name: string (nullable = true)\n",
       " |-- dep_name: string (nullable = true)\n",
       " |-- state: string (nullable = true)\n",
       " |-- salary: long (nullable = true)\n",
       "\n",
       "+--------+---------+-----+------+\n",
       "|name    |dep_name |state|salary|\n",
       "+--------+---------+-----+------+\n",
       "|Anderson|Sales    |NY   |90000 |\n",
       "|Kenedy  |Sales    |CA   |86000 |\n",
       "|Kenny   |Sales    |CA   |86000 |\n",
       "|Billy   |Sales    |NY   |81000 |\n",
       "|Andy    |Finance  |CA   |90000 |\n",
       "|Mary    |Finance  |NY   |99000 |\n",
       "|Eduardo |Finance  |NY   |83000 |\n",
       "|Mendes  |Finance  |CA   |79000 |\n",
       "|Keyth   |Marketing|CA   |80000 |\n",
       "|Truman  |Marketing|NY   |91000 |\n",
       "+--------+---------+-----+------+\n",
       "\n"
      ]
     },
     "metadata": {
      "application/vnd.databricks.v1+output": {
       "addedWidgets": {},
       "arguments": {},
       "data": "root\n |-- name: string (nullable = true)\n |-- dep_name: string (nullable = true)\n |-- state: string (nullable = true)\n |-- salary: long (nullable = true)\n\n+--------+---------+-----+------+\n|name    |dep_name |state|salary|\n+--------+---------+-----+------+\n|Anderson|Sales    |NY   |90000 |\n|Kenedy  |Sales    |CA   |86000 |\n|Kenny   |Sales    |CA   |86000 |\n|Billy   |Sales    |NY   |81000 |\n|Andy    |Finance  |CA   |90000 |\n|Mary    |Finance  |NY   |99000 |\n|Eduardo |Finance  |NY   |83000 |\n|Mendes  |Finance  |CA   |79000 |\n|Keyth   |Marketing|CA   |80000 |\n|Truman  |Marketing|NY   |91000 |\n+--------+---------+-----+------+\n\n",
       "datasetInfos": [],
       "metadata": {},
       "removedWidgets": [],
       "type": "ansi"
      }
     },
     "output_type": "display_data"
    }
   ],
   "source": [
    "import pyspark.sql.functions as F\n",
    "from pyspark.sql.window import Window\n",
    "\n",
    "data = [(\"Anderson\",\"Sales\",\"NY\",90000),\n",
    "    (\"Kenedy\",\"Sales\",\"CA\",86000),\n",
    "    (\"Kenny\",\"Sales\",\"CA\",86000),\n",
    "    (\"Billy\",\"Sales\",\"NY\",81000),\n",
    "    (\"Andy\",\"Finance\",\"CA\",90000),\n",
    "    (\"Mary\",\"Finance\",\"NY\",99000),\n",
    "    (\"Eduardo\",\"Finance\",\"NY\",83000),\n",
    "    (\"Mendes\",\"Finance\",\"CA\",79000),\n",
    "    (\"Keyth\",\"Marketing\",\"CA\",80000),\n",
    "    (\"Truman\",\"Marketing\",\"NY\",91000)\n",
    "  ]\n",
    "\n",
    "schema = [\"name\",\"dep_name\",\"state\",\"salary\"]\n",
    "df = spark.createDataFrame(data=data, schema = schema)\n",
    "df.printSchema()\n",
    "df.show(truncate=False)"
   ]
  },
  {
   "cell_type": "code",
   "execution_count": 0,
   "metadata": {
    "application/vnd.databricks.v1+cell": {
     "inputWidgets": {},
     "nuid": "62e222fa-64cf-4437-9e18-e7cd0d9ff1ed",
     "showTitle": true,
     "title": "row_number Window Function"
    }
   },
   "outputs": [
    {
     "data": {
      "text/plain": [
       "+--------+---------+-----+------+----------+\n",
       "|name    |dep_name |state|salary|row_number|\n",
       "+--------+---------+-----+------+----------+\n",
       "|Mendes  |Finance  |CA   |79000 |1         |\n",
       "|Eduardo |Finance  |NY   |83000 |2         |\n",
       "|Andy    |Finance  |CA   |90000 |3         |\n",
       "|Mary    |Finance  |NY   |99000 |4         |\n",
       "|Keyth   |Marketing|CA   |80000 |1         |\n",
       "|Truman  |Marketing|NY   |91000 |2         |\n",
       "|Billy   |Sales    |NY   |81000 |1         |\n",
       "|Kenedy  |Sales    |CA   |86000 |2         |\n",
       "|Kenny   |Sales    |CA   |86000 |3         |\n",
       "|Anderson|Sales    |NY   |90000 |4         |\n",
       "+--------+---------+-----+------+----------+\n",
       "\n"
      ]
     },
     "metadata": {
      "application/vnd.databricks.v1+output": {
       "addedWidgets": {},
       "arguments": {},
       "data": "+--------+---------+-----+------+----------+\n|name    |dep_name |state|salary|row_number|\n+--------+---------+-----+------+----------+\n|Mendes  |Finance  |CA   |79000 |1         |\n|Eduardo |Finance  |NY   |83000 |2         |\n|Andy    |Finance  |CA   |90000 |3         |\n|Mary    |Finance  |NY   |99000 |4         |\n|Keyth   |Marketing|CA   |80000 |1         |\n|Truman  |Marketing|NY   |91000 |2         |\n|Billy   |Sales    |NY   |81000 |1         |\n|Kenedy  |Sales    |CA   |86000 |2         |\n|Kenny   |Sales    |CA   |86000 |3         |\n|Anderson|Sales    |NY   |90000 |4         |\n+--------+---------+-----+------+----------+\n\n",
       "datasetInfos": [],
       "metadata": {},
       "removedWidgets": [],
       "type": "ansi"
      }
     },
     "output_type": "display_data"
    }
   ],
   "source": [
    "w0  = Window.partitionBy(F.col(\"dep_name\")).orderBy(F.col(\"salary\"))\n",
    "df.withColumn(\"row_number\",F.row_number().over(w0)).show(truncate=False)"
   ]
  },
  {
   "cell_type": "code",
   "execution_count": 0,
   "metadata": {
    "application/vnd.databricks.v1+cell": {
     "inputWidgets": {},
     "nuid": "6464faf1-1ded-427e-bbd6-d8969ef3233b",
     "showTitle": true,
     "title": "rank Window Function"
    }
   },
   "outputs": [
    {
     "data": {
      "text/plain": [
       "+--------+---------+-----+------+----+\n",
       "|name    |dep_name |state|salary|rank|\n",
       "+--------+---------+-----+------+----+\n",
       "|Mendes  |Finance  |CA   |79000 |1   |\n",
       "|Eduardo |Finance  |NY   |83000 |2   |\n",
       "|Andy    |Finance  |CA   |90000 |3   |\n",
       "|Mary    |Finance  |NY   |99000 |4   |\n",
       "|Keyth   |Marketing|CA   |80000 |1   |\n",
       "|Truman  |Marketing|NY   |91000 |2   |\n",
       "|Billy   |Sales    |NY   |81000 |1   |\n",
       "|Kenedy  |Sales    |CA   |86000 |2   |\n",
       "|Kenny   |Sales    |CA   |86000 |2   |\n",
       "|Anderson|Sales    |NY   |90000 |4   |\n",
       "+--------+---------+-----+------+----+\n",
       "\n"
      ]
     },
     "metadata": {
      "application/vnd.databricks.v1+output": {
       "addedWidgets": {},
       "arguments": {},
       "data": "+--------+---------+-----+------+----+\n|name    |dep_name |state|salary|rank|\n+--------+---------+-----+------+----+\n|Mendes  |Finance  |CA   |79000 |1   |\n|Eduardo |Finance  |NY   |83000 |2   |\n|Andy    |Finance  |CA   |90000 |3   |\n|Mary    |Finance  |NY   |99000 |4   |\n|Keyth   |Marketing|CA   |80000 |1   |\n|Truman  |Marketing|NY   |91000 |2   |\n|Billy   |Sales    |NY   |81000 |1   |\n|Kenedy  |Sales    |CA   |86000 |2   |\n|Kenny   |Sales    |CA   |86000 |2   |\n|Anderson|Sales    |NY   |90000 |4   |\n+--------+---------+-----+------+----+\n\n",
       "datasetInfos": [],
       "metadata": {},
       "removedWidgets": [],
       "type": "ansi"
      }
     },
     "output_type": "display_data"
    }
   ],
   "source": [
    "df.withColumn(\"rank\",F.rank().over(w0)).show(truncate=False)"
   ]
  },
  {
   "cell_type": "code",
   "execution_count": 0,
   "metadata": {
    "application/vnd.databricks.v1+cell": {
     "inputWidgets": {},
     "nuid": "ed9fd8c4-d721-4dc7-870c-c64be3394625",
     "showTitle": true,
     "title": "dense_rank Window Function"
    }
   },
   "outputs": [
    {
     "data": {
      "text/plain": [
       "+--------+---------+-----+------+----------+\n",
       "|name    |dep_name |state|salary|dense_rank|\n",
       "+--------+---------+-----+------+----------+\n",
       "|Mendes  |Finance  |CA   |79000 |1         |\n",
       "|Eduardo |Finance  |NY   |83000 |2         |\n",
       "|Andy    |Finance  |CA   |90000 |3         |\n",
       "|Mary    |Finance  |NY   |99000 |4         |\n",
       "|Keyth   |Marketing|CA   |80000 |1         |\n",
       "|Truman  |Marketing|NY   |91000 |2         |\n",
       "|Billy   |Sales    |NY   |81000 |1         |\n",
       "|Kenedy  |Sales    |CA   |86000 |2         |\n",
       "|Kenny   |Sales    |CA   |86000 |2         |\n",
       "|Anderson|Sales    |NY   |90000 |3         |\n",
       "+--------+---------+-----+------+----------+\n",
       "\n"
      ]
     },
     "metadata": {
      "application/vnd.databricks.v1+output": {
       "addedWidgets": {},
       "arguments": {},
       "data": "+--------+---------+-----+------+----------+\n|name    |dep_name |state|salary|dense_rank|\n+--------+---------+-----+------+----------+\n|Mendes  |Finance  |CA   |79000 |1         |\n|Eduardo |Finance  |NY   |83000 |2         |\n|Andy    |Finance  |CA   |90000 |3         |\n|Mary    |Finance  |NY   |99000 |4         |\n|Keyth   |Marketing|CA   |80000 |1         |\n|Truman  |Marketing|NY   |91000 |2         |\n|Billy   |Sales    |NY   |81000 |1         |\n|Kenedy  |Sales    |CA   |86000 |2         |\n|Kenny   |Sales    |CA   |86000 |2         |\n|Anderson|Sales    |NY   |90000 |3         |\n+--------+---------+-----+------+----------+\n\n",
       "datasetInfos": [],
       "metadata": {},
       "removedWidgets": [],
       "type": "ansi"
      }
     },
     "output_type": "display_data"
    }
   ],
   "source": [
    "df.withColumn(\"dense_rank\",F.dense_rank().over(w0)).show(truncate=False)"
   ]
  },
  {
   "cell_type": "code",
   "execution_count": 0,
   "metadata": {
    "application/vnd.databricks.v1+cell": {
     "inputWidgets": {},
     "nuid": "0613a9c8-d6b5-41ef-b5e4-7b4a71b93f97",
     "showTitle": true,
     "title": "percent_rank Window Function"
    }
   },
   "outputs": [
    {
     "data": {
      "text/plain": [
       "+--------+---------+-----+------+------------------+\n",
       "|name    |dep_name |state|salary|percent_rank      |\n",
       "+--------+---------+-----+------+------------------+\n",
       "|Mendes  |Finance  |CA   |79000 |0.0               |\n",
       "|Eduardo |Finance  |NY   |83000 |0.3333333333333333|\n",
       "|Andy    |Finance  |CA   |90000 |0.6666666666666666|\n",
       "|Mary    |Finance  |NY   |99000 |1.0               |\n",
       "|Keyth   |Marketing|CA   |80000 |0.0               |\n",
       "|Truman  |Marketing|NY   |91000 |1.0               |\n",
       "|Billy   |Sales    |NY   |81000 |0.0               |\n",
       "|Kenedy  |Sales    |CA   |86000 |0.3333333333333333|\n",
       "|Kenny   |Sales    |CA   |86000 |0.3333333333333333|\n",
       "|Anderson|Sales    |NY   |90000 |1.0               |\n",
       "+--------+---------+-----+------+------------------+\n",
       "\n"
      ]
     },
     "metadata": {
      "application/vnd.databricks.v1+output": {
       "addedWidgets": {},
       "arguments": {},
       "data": "+--------+---------+-----+------+------------------+\n|name    |dep_name |state|salary|percent_rank      |\n+--------+---------+-----+------+------------------+\n|Mendes  |Finance  |CA   |79000 |0.0               |\n|Eduardo |Finance  |NY   |83000 |0.3333333333333333|\n|Andy    |Finance  |CA   |90000 |0.6666666666666666|\n|Mary    |Finance  |NY   |99000 |1.0               |\n|Keyth   |Marketing|CA   |80000 |0.0               |\n|Truman  |Marketing|NY   |91000 |1.0               |\n|Billy   |Sales    |NY   |81000 |0.0               |\n|Kenedy  |Sales    |CA   |86000 |0.3333333333333333|\n|Kenny   |Sales    |CA   |86000 |0.3333333333333333|\n|Anderson|Sales    |NY   |90000 |1.0               |\n+--------+---------+-----+------+------------------+\n\n",
       "datasetInfos": [],
       "metadata": {},
       "removedWidgets": [],
       "type": "ansi"
      }
     },
     "output_type": "display_data"
    }
   ],
   "source": [
    "df.withColumn(\"percent_rank\",F.percent_rank().over(w0)).show(truncate=False)"
   ]
  },
  {
   "cell_type": "code",
   "execution_count": 0,
   "metadata": {
    "application/vnd.databricks.v1+cell": {
     "inputWidgets": {},
     "nuid": "fd07be97-164a-410f-b67d-fc0031235894",
     "showTitle": true,
     "title": "ntile Window Function"
    }
   },
   "outputs": [
    {
     "data": {
      "text/plain": [
       "+--------+---------+-----+------+-----+\n",
       "|name    |dep_name |state|salary|ntile|\n",
       "+--------+---------+-----+------+-----+\n",
       "|Mendes  |Finance  |CA   |79000 |1    |\n",
       "|Eduardo |Finance  |NY   |83000 |1    |\n",
       "|Andy    |Finance  |CA   |90000 |2    |\n",
       "|Mary    |Finance  |NY   |99000 |2    |\n",
       "|Keyth   |Marketing|CA   |80000 |1    |\n",
       "|Truman  |Marketing|NY   |91000 |2    |\n",
       "|Billy   |Sales    |NY   |81000 |1    |\n",
       "|Kenedy  |Sales    |CA   |86000 |1    |\n",
       "|Kenny   |Sales    |CA   |86000 |2    |\n",
       "|Anderson|Sales    |NY   |90000 |2    |\n",
       "+--------+---------+-----+------+-----+\n",
       "\n"
      ]
     },
     "metadata": {
      "application/vnd.databricks.v1+output": {
       "addedWidgets": {},
       "arguments": {},
       "data": "+--------+---------+-----+------+-----+\n|name    |dep_name |state|salary|ntile|\n+--------+---------+-----+------+-----+\n|Mendes  |Finance  |CA   |79000 |1    |\n|Eduardo |Finance  |NY   |83000 |1    |\n|Andy    |Finance  |CA   |90000 |2    |\n|Mary    |Finance  |NY   |99000 |2    |\n|Keyth   |Marketing|CA   |80000 |1    |\n|Truman  |Marketing|NY   |91000 |2    |\n|Billy   |Sales    |NY   |81000 |1    |\n|Kenedy  |Sales    |CA   |86000 |1    |\n|Kenny   |Sales    |CA   |86000 |2    |\n|Anderson|Sales    |NY   |90000 |2    |\n+--------+---------+-----+------+-----+\n\n",
       "datasetInfos": [],
       "metadata": {},
       "removedWidgets": [],
       "type": "ansi"
      }
     },
     "output_type": "display_data"
    }
   ],
   "source": [
    "df.withColumn(\"ntile\",F.ntile(2).over(w0)).show(truncate=False)"
   ]
  },
  {
   "cell_type": "code",
   "execution_count": 0,
   "metadata": {
    "application/vnd.databricks.v1+cell": {
     "inputWidgets": {},
     "nuid": "968cb0e7-8d37-4705-9743-84bdb121ebf9",
     "showTitle": true,
     "title": "cume_dist Window Function"
    }
   },
   "outputs": [
    {
     "data": {
      "text/plain": [
       "+--------+---------+-----+------+---------+\n",
       "|name    |dep_name |state|salary|cume_dist|\n",
       "+--------+---------+-----+------+---------+\n",
       "|Mendes  |Finance  |CA   |79000 |0.25     |\n",
       "|Eduardo |Finance  |NY   |83000 |0.5      |\n",
       "|Andy    |Finance  |CA   |90000 |0.75     |\n",
       "|Mary    |Finance  |NY   |99000 |1.0      |\n",
       "|Keyth   |Marketing|CA   |80000 |0.5      |\n",
       "|Truman  |Marketing|NY   |91000 |1.0      |\n",
       "|Billy   |Sales    |NY   |81000 |0.25     |\n",
       "|Kenedy  |Sales    |CA   |86000 |0.75     |\n",
       "|Kenny   |Sales    |CA   |86000 |0.75     |\n",
       "|Anderson|Sales    |NY   |90000 |1.0      |\n",
       "+--------+---------+-----+------+---------+\n",
       "\n"
      ]
     },
     "metadata": {
      "application/vnd.databricks.v1+output": {
       "addedWidgets": {},
       "arguments": {},
       "data": "+--------+---------+-----+------+---------+\n|name    |dep_name |state|salary|cume_dist|\n+--------+---------+-----+------+---------+\n|Mendes  |Finance  |CA   |79000 |0.25     |\n|Eduardo |Finance  |NY   |83000 |0.5      |\n|Andy    |Finance  |CA   |90000 |0.75     |\n|Mary    |Finance  |NY   |99000 |1.0      |\n|Keyth   |Marketing|CA   |80000 |0.5      |\n|Truman  |Marketing|NY   |91000 |1.0      |\n|Billy   |Sales    |NY   |81000 |0.25     |\n|Kenedy  |Sales    |CA   |86000 |0.75     |\n|Kenny   |Sales    |CA   |86000 |0.75     |\n|Anderson|Sales    |NY   |90000 |1.0      |\n+--------+---------+-----+------+---------+\n\n",
       "datasetInfos": [],
       "metadata": {},
       "removedWidgets": [],
       "type": "ansi"
      }
     },
     "output_type": "display_data"
    }
   ],
   "source": [
    "df.withColumn(\"cume_dist\",F.cume_dist().over(w0)).show(truncate=False)"
   ]
  },
  {
   "cell_type": "code",
   "execution_count": 0,
   "metadata": {
    "application/vnd.databricks.v1+cell": {
     "inputWidgets": {},
     "nuid": "298aa408-00c6-4718-be8d-4f566618290c",
     "showTitle": true,
     "title": "lag Window Function"
    }
   },
   "outputs": [
    {
     "data": {
      "text/plain": [
       "+--------+---------+-----+------+-----+\n",
       "|name    |dep_name |state|salary|lag  |\n",
       "+--------+---------+-----+------+-----+\n",
       "|Mendes  |Finance  |CA   |79000 |null |\n",
       "|Eduardo |Finance  |NY   |83000 |79000|\n",
       "|Andy    |Finance  |CA   |90000 |83000|\n",
       "|Mary    |Finance  |NY   |99000 |90000|\n",
       "|Keyth   |Marketing|CA   |80000 |null |\n",
       "|Truman  |Marketing|NY   |91000 |80000|\n",
       "|Billy   |Sales    |NY   |81000 |null |\n",
       "|Kenedy  |Sales    |CA   |86000 |81000|\n",
       "|Kenny   |Sales    |CA   |86000 |86000|\n",
       "|Anderson|Sales    |NY   |90000 |86000|\n",
       "+--------+---------+-----+------+-----+\n",
       "\n"
      ]
     },
     "metadata": {
      "application/vnd.databricks.v1+output": {
       "addedWidgets": {},
       "arguments": {},
       "data": "+--------+---------+-----+------+-----+\n|name    |dep_name |state|salary|lag  |\n+--------+---------+-----+------+-----+\n|Mendes  |Finance  |CA   |79000 |null |\n|Eduardo |Finance  |NY   |83000 |79000|\n|Andy    |Finance  |CA   |90000 |83000|\n|Mary    |Finance  |NY   |99000 |90000|\n|Keyth   |Marketing|CA   |80000 |null |\n|Truman  |Marketing|NY   |91000 |80000|\n|Billy   |Sales    |NY   |81000 |null |\n|Kenedy  |Sales    |CA   |86000 |81000|\n|Kenny   |Sales    |CA   |86000 |86000|\n|Anderson|Sales    |NY   |90000 |86000|\n+--------+---------+-----+------+-----+\n\n",
       "datasetInfos": [],
       "metadata": {},
       "removedWidgets": [],
       "type": "ansi"
      }
     },
     "output_type": "display_data"
    }
   ],
   "source": [
    "df.withColumn(\"lag\",F.lag(\"salary\",1).over(w0)).show(truncate=False)"
   ]
  },
  {
   "cell_type": "code",
   "execution_count": 0,
   "metadata": {
    "application/vnd.databricks.v1+cell": {
     "inputWidgets": {},
     "nuid": "35edcc68-ba42-47d4-92cc-cbdcf24b3569",
     "showTitle": true,
     "title": "lead Window Function"
    }
   },
   "outputs": [
    {
     "data": {
      "text/plain": [
       "+--------+---------+-----+------+-----+\n",
       "|name    |dep_name |state|salary|lead |\n",
       "+--------+---------+-----+------+-----+\n",
       "|Mendes  |Finance  |CA   |79000 |90000|\n",
       "|Eduardo |Finance  |NY   |83000 |99000|\n",
       "|Andy    |Finance  |CA   |90000 |null |\n",
       "|Mary    |Finance  |NY   |99000 |null |\n",
       "|Keyth   |Marketing|CA   |80000 |null |\n",
       "|Truman  |Marketing|NY   |91000 |null |\n",
       "|Billy   |Sales    |NY   |81000 |86000|\n",
       "|Kenedy  |Sales    |CA   |86000 |90000|\n",
       "|Kenny   |Sales    |CA   |86000 |null |\n",
       "|Anderson|Sales    |NY   |90000 |null |\n",
       "+--------+---------+-----+------+-----+\n",
       "\n"
      ]
     },
     "metadata": {
      "application/vnd.databricks.v1+output": {
       "addedWidgets": {},
       "arguments": {},
       "data": "+--------+---------+-----+------+-----+\n|name    |dep_name |state|salary|lead |\n+--------+---------+-----+------+-----+\n|Mendes  |Finance  |CA   |79000 |90000|\n|Eduardo |Finance  |NY   |83000 |99000|\n|Andy    |Finance  |CA   |90000 |null |\n|Mary    |Finance  |NY   |99000 |null |\n|Keyth   |Marketing|CA   |80000 |null |\n|Truman  |Marketing|NY   |91000 |null |\n|Billy   |Sales    |NY   |81000 |86000|\n|Kenedy  |Sales    |CA   |86000 |90000|\n|Kenny   |Sales    |CA   |86000 |null |\n|Anderson|Sales    |NY   |90000 |null |\n+--------+---------+-----+------+-----+\n\n",
       "datasetInfos": [],
       "metadata": {},
       "removedWidgets": [],
       "type": "ansi"
      }
     },
     "output_type": "display_data"
    }
   ],
   "source": [
    "df.withColumn(\"lead\",F.lead(\"salary\",2).over(w0)).show(truncate=False)"
   ]
  },
  {
   "cell_type": "code",
   "execution_count": 0,
   "metadata": {
    "application/vnd.databricks.v1+cell": {
     "inputWidgets": {},
     "nuid": "6bcab17b-d77b-4822-8684-e01afea02696",
     "showTitle": true,
     "title": "Window Aggregate Functions"
    }
   },
   "outputs": [
    {
     "data": {
      "text/plain": [
       "+---------+-------+-----+-----+-----+\n",
       "|dep_name |avg    |sum  |min  |max  |\n",
       "+---------+-------+-----+-----+-----+\n",
       "|Finance  |79000.0|79000|79000|79000|\n",
       "|Marketing|80000.0|80000|80000|80000|\n",
       "|Sales    |81000.0|81000|81000|81000|\n",
       "+---------+-------+-----+-----+-----+\n",
       "\n"
      ]
     },
     "metadata": {
      "application/vnd.databricks.v1+output": {
       "addedWidgets": {},
       "arguments": {},
       "data": "+---------+-------+-----+-----+-----+\n|dep_name |avg    |sum  |min  |max  |\n+---------+-------+-----+-----+-----+\n|Finance  |79000.0|79000|79000|79000|\n|Marketing|80000.0|80000|80000|80000|\n|Sales    |81000.0|81000|81000|81000|\n+---------+-------+-----+-----+-----+\n\n",
       "datasetInfos": [],
       "metadata": {},
       "removedWidgets": [],
       "type": "ansi"
      }
     },
     "output_type": "display_data"
    }
   ],
   "source": [
    "w01 = Window.partitionBy(F.col(\"dep_name\")).orderBy(F.col(\"salary\"))\n",
    "\n",
    "df.withColumn(\"row\",F.row_number().over(w01)) \\\n",
    "  .withColumn(\"avg\", F.avg(F.col(\"salary\")).over(w01)) \\\n",
    "  .withColumn(\"sum\", F.sum(F.col(\"salary\")).over(w01)) \\\n",
    "  .withColumn(\"min\", F.min(F.col(\"salary\")).over(w01)) \\\n",
    "  .withColumn(\"max\", F.max(F.col(\"salary\")).over(w01)) \\\n",
    "  .where(F.col(\"row\")==1).select(\"dep_name\",\"avg\",\"sum\",\"min\",\"max\") \\\n",
    "  .show(truncate=False)"
   ]
  }
 ],
 "metadata": {
  "application/vnd.databricks.v1+notebook": {
   "dashboards": [],
   "language": "python",
   "notebookMetadata": {
    "pythonIndentUnit": 4
   },
   "notebookName": "aula10_Window_Functions",
   "notebookOrigID": 3261836255702933,
   "widgets": {}
  },
  "kernelspec": {
   "display_name": "Python 3 (ipykernel)",
   "language": "python",
   "name": "python3"
  },
  "language_info": {
   "codemirror_mode": {
    "name": "ipython",
    "version": 3
   },
   "file_extension": ".py",
   "mimetype": "text/x-python",
   "name": "python",
   "nbconvert_exporter": "python",
   "pygments_lexer": "ipython3",
   "version": "3.9.7"
  }
 },
 "nbformat": 4,
 "nbformat_minor": 1
}
