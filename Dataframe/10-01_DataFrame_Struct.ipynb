{
 "cells": [
  {
   "cell_type": "code",
   "execution_count": 1,
   "id": "b146a4c5",
   "metadata": {},
   "outputs": [],
   "source": [
    "from pyspark.sql import SparkSession\n",
    "import pyspark.sql.functions as F\n",
    "from pyspark.sql.types import StructType, StructField, StringType, IntegerType"
   ]
  },
  {
   "cell_type": "code",
   "execution_count": 2,
   "id": "c840dd07",
   "metadata": {},
   "outputs": [],
   "source": [
    "spark = (SparkSession.builder\n",
    "        .master(\"local[3]\")\n",
    "        .appName(\"Struct\")\n",
    "        .getOrCreate())"
   ]
  },
  {
   "cell_type": "code",
   "execution_count": 3,
   "id": "236d2057",
   "metadata": {},
   "outputs": [],
   "source": [
    "schema = (StructType([\n",
    "      StructField(\"regiao\", StringType(), True),\n",
    "      StructField(\"estado\", StringType(), True),\n",
    "      StructField(\"data\", StringType(), True),\n",
    "      StructField(\"casosNovos\", IntegerType(), True),\n",
    "      StructField(\"casosAcumulados\", IntegerType(), True),\n",
    "      StructField(\"obitosNovos\", IntegerType(), True),\n",
    "      StructField(\"obitosAcumulados\", IntegerType(), True),\n",
    "    ]))"
   ]
  },
  {
   "cell_type": "code",
   "execution_count": 4,
   "id": "7b64bd06",
   "metadata": {},
   "outputs": [],
   "source": [
    "df = (spark\n",
    "          .read\n",
    "          .format(\"csv\")\n",
    "          .option(\"header\",\"true\")\n",
    "          .option(\"inferSchema\",\"false\")\n",
    "          .option(\"delimiter\",\";\")\n",
    "          .load(\"csv/covid_basico.csv\", schema = schema))"
   ]
  },
  {
   "cell_type": "code",
   "execution_count": 6,
   "id": "d573fb52",
   "metadata": {},
   "outputs": [
    {
     "name": "stdout",
     "output_type": "stream",
     "text": [
      "root\n",
      " |-- regiao: string (nullable = true)\n",
      " |-- estado: string (nullable = true)\n",
      " |-- data: string (nullable = true)\n",
      " |-- casosNovos: integer (nullable = true)\n",
      " |-- casosAcumulados: integer (nullable = true)\n",
      " |-- obitosNovos: integer (nullable = true)\n",
      " |-- obitosAcumulados: integer (nullable = true)\n",
      "\n"
     ]
    }
   ],
   "source": [
    "df.printSchema()"
   ]
  }
 ],
 "metadata": {
  "kernelspec": {
   "display_name": "Python 3 (ipykernel)",
   "language": "python",
   "name": "python3"
  },
  "language_info": {
   "codemirror_mode": {
    "name": "ipython",
    "version": 3
   },
   "file_extension": ".py",
   "mimetype": "text/x-python",
   "name": "python",
   "nbconvert_exporter": "python",
   "pygments_lexer": "ipython3",
   "version": "3.9.7"
  }
 },
 "nbformat": 4,
 "nbformat_minor": 5
}
