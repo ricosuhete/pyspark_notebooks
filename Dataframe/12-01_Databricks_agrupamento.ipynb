{
 "cells": [
  {
   "cell_type": "code",
   "execution_count": 0,
   "metadata": {
    "application/vnd.databricks.v1+cell": {
     "inputWidgets": {},
     "nuid": "98fee9c1-3d6d-42ea-80ab-d9bd44119f88",
     "showTitle": true,
     "title": "Preparando dados e criando o DataFrame"
    }
   },
   "outputs": [
    {
     "data": {
      "text/plain": [
       "root\n",
       " |-- emp_name: string (nullable = true)\n",
       " |-- dep_name: string (nullable = true)\n",
       " |-- state: string (nullable = true)\n",
       " |-- salary: long (nullable = true)\n",
       " |-- age: long (nullable = true)\n",
       " |-- bonus: long (nullable = true)\n",
       "\n",
       "+--------+---------+-----+------+---+-----+\n",
       "|emp_name|dep_name |state|salary|age|bonus|\n",
       "+--------+---------+-----+------+---+-----+\n",
       "|Anderson|Sales    |NY   |90000 |34 |10000|\n",
       "|Kenedy  |Sales    |CA   |86000 |56 |20000|\n",
       "|Billy   |Sales    |NY   |81000 |30 |23000|\n",
       "|Andy    |Finance  |CA   |90000 |24 |23000|\n",
       "|Mary    |Finance  |NY   |99000 |40 |24000|\n",
       "|Eduardo |Finance  |NY   |83000 |36 |19000|\n",
       "|Mendes  |Finance  |CA   |79000 |53 |15000|\n",
       "|Keyth   |Marketing|CA   |80000 |25 |18000|\n",
       "|Truman  |Marketing|NY   |91000 |50 |21000|\n",
       "+--------+---------+-----+------+---+-----+\n",
       "\n"
      ]
     },
     "metadata": {
      "application/vnd.databricks.v1+output": {
       "addedWidgets": {},
       "arguments": {},
       "data": "root\n |-- emp_name: string (nullable = true)\n |-- dep_name: string (nullable = true)\n |-- state: string (nullable = true)\n |-- salary: long (nullable = true)\n |-- age: long (nullable = true)\n |-- bonus: long (nullable = true)\n\n+--------+---------+-----+------+---+-----+\n|emp_name|dep_name |state|salary|age|bonus|\n+--------+---------+-----+------+---+-----+\n|Anderson|Sales    |NY   |90000 |34 |10000|\n|Kenedy  |Sales    |CA   |86000 |56 |20000|\n|Billy   |Sales    |NY   |81000 |30 |23000|\n|Andy    |Finance  |CA   |90000 |24 |23000|\n|Mary    |Finance  |NY   |99000 |40 |24000|\n|Eduardo |Finance  |NY   |83000 |36 |19000|\n|Mendes  |Finance  |CA   |79000 |53 |15000|\n|Keyth   |Marketing|CA   |80000 |25 |18000|\n|Truman  |Marketing|NY   |91000 |50 |21000|\n+--------+---------+-----+------+---+-----+\n\n",
       "datasetInfos": [],
       "metadata": {},
       "removedWidgets": [],
       "type": "ansi"
      }
     },
     "output_type": "display_data"
    }
   ],
   "source": [
    "import pyspark.sql.functions as F\n",
    "data = [(\"Anderson\",\"Sales\",\"NY\",90000,34,10000),\n",
    "    (\"Kenedy\",\"Sales\",\"CA\",86000,56,20000),\n",
    "    (\"Billy\",\"Sales\",\"NY\",81000,30,23000),\n",
    "    (\"Andy\",\"Finance\",\"CA\",90000,24,23000),\n",
    "    (\"Mary\",\"Finance\",\"NY\",99000,40,24000),\n",
    "    (\"Eduardo\",\"Finance\",\"NY\",83000,36,19000),\n",
    "    (\"Mendes\",\"Finance\",\"CA\",79000,53,15000),\n",
    "    (\"Keyth\",\"Marketing\",\"CA\",80000,25,18000),\n",
    "    (\"Truman\",\"Marketing\",\"NY\",91000,50,21000)\n",
    "  ]\n",
    "\n",
    "schema = [\"emp_name\",\"dep_name\",\"state\",\"salary\",\"age\",\"bonus\"]\n",
    "df = spark.createDataFrame(data=data, schema = schema)\n",
    "df.printSchema()\n",
    "df.show(truncate=False)"
   ]
  },
  {
   "cell_type": "code",
   "execution_count": 0,
   "metadata": {
    "application/vnd.databricks.v1+cell": {
     "inputWidgets": {},
     "nuid": "08427d26-c1ad-4230-9a23-5e5f58121ec2",
     "showTitle": false,
     "title": ""
    }
   },
   "outputs": [],
   "source": [
    "df.createTempView(\"tbl_teste\")"
   ]
  },
  {
   "cell_type": "code",
   "execution_count": 0,
   "metadata": {
    "application/vnd.databricks.v1+cell": {
     "inputWidgets": {},
     "nuid": "3d7ff94c-854b-4d2e-bc09-c0291eb66bce",
     "showTitle": false,
     "title": ""
    }
   },
   "outputs": [
    {
     "data": {
      "text/html": [
       "<style scoped>\n",
       "  .table-result-container {\n",
       "    max-height: 300px;\n",
       "    overflow: auto;\n",
       "  }\n",
       "  table, th, td {\n",
       "    border: 1px solid black;\n",
       "    border-collapse: collapse;\n",
       "  }\n",
       "  th, td {\n",
       "    padding: 5px;\n",
       "  }\n",
       "  th {\n",
       "    text-align: left;\n",
       "  }\n",
       "</style><div class='table-result-container'><table class='table-result'><thead style='background-color: white'><tr><th>SALARIO</th><th>DEPARTAMENTOS</th></tr></thead><tbody><tr><td>444000</td><td>[{\"DEPRTAMENTOS\":\"Sales\",\"PESSOAS\":\"Anderson\"},{\"DEPRTAMENTOS\":\"Sales\",\"PESSOAS\":\"Billy\"},{\"DEPRTAMENTOS\":\"Finance\",\"PESSOAS\":\"Mary\"},{\"DEPRTAMENTOS\":\"Finance\",\"PESSOAS\":\"Eduardo\"},{\"DEPRTAMENTOS\":\"Marketing\",\"PESSOAS\":\"Truman\"}]</td></tr><tr><td>335000</td><td>[{\"DEPRTAMENTOS\":\"Sales\",\"PESSOAS\":\"Kenedy\"},{\"DEPRTAMENTOS\":\"Finance\",\"PESSOAS\":\"Andy\"},{\"DEPRTAMENTOS\":\"Finance\",\"PESSOAS\":\"Mendes\"},{\"DEPRTAMENTOS\":\"Marketing\",\"PESSOAS\":\"Keyth\"}]</td></tr></tbody></table></div>"
      ]
     },
     "metadata": {
      "application/vnd.databricks.v1+output": {
       "addedWidgets": {},
       "aggData": [],
       "aggError": "",
       "aggOverflow": false,
       "aggSchema": [],
       "aggSeriesLimitReached": false,
       "aggType": "",
       "arguments": {},
       "columnCustomDisplayInfos": {},
       "data": [
        [
         444000,
         "[{\"DEPRTAMENTOS\":\"Sales\",\"PESSOAS\":\"Anderson\"},{\"DEPRTAMENTOS\":\"Sales\",\"PESSOAS\":\"Billy\"},{\"DEPRTAMENTOS\":\"Finance\",\"PESSOAS\":\"Mary\"},{\"DEPRTAMENTOS\":\"Finance\",\"PESSOAS\":\"Eduardo\"},{\"DEPRTAMENTOS\":\"Marketing\",\"PESSOAS\":\"Truman\"}]"
        ],
        [
         335000,
         "[{\"DEPRTAMENTOS\":\"Sales\",\"PESSOAS\":\"Kenedy\"},{\"DEPRTAMENTOS\":\"Finance\",\"PESSOAS\":\"Andy\"},{\"DEPRTAMENTOS\":\"Finance\",\"PESSOAS\":\"Mendes\"},{\"DEPRTAMENTOS\":\"Marketing\",\"PESSOAS\":\"Keyth\"}]"
        ]
       ],
       "datasetInfos": [],
       "dbfsResultPath": null,
       "isJsonSchema": true,
       "metadata": {
        "isDbfsCommandResult": false
       },
       "overflow": false,
       "plotOptions": {
        "customPlotOptions": {},
        "displayType": "table",
        "pivotAggregation": null,
        "pivotColumns": [],
        "xColumns": [],
        "yColumns": []
       },
       "removedWidgets": [],
       "schema": [
        {
         "metadata": "{}",
         "name": "SALARIO",
         "type": "\"long\""
        },
        {
         "metadata": "{}",
         "name": "DEPARTAMENTOS",
         "type": "\"string\""
        }
       ],
       "type": "table"
      }
     },
     "output_type": "display_data"
    }
   ],
   "source": [
    "%sql \n",
    "SELECT SUM(salary) as SALARIO, to_json(collect_list(map(\"DEPRTAMENTOS\",dep_name,\"PESSOAS\",emp_name))) AS DEPARTAMENTOS  FROM tbl_teste GROUP BY state"
   ]
  },
  {
   "cell_type": "code",
   "execution_count": 0,
   "metadata": {
    "application/vnd.databricks.v1+cell": {
     "inputWidgets": {},
     "nuid": "b674046b-28ae-4aa6-809b-e0f1d11d80d5",
     "showTitle": true,
     "title": "Sum"
    }
   },
   "outputs": [
    {
     "data": {
      "text/plain": [
       "+---------+-----------+\n",
       "|dep_name |sum(salary)|\n",
       "+---------+-----------+\n",
       "|Sales    |257000     |\n",
       "|Finance  |351000     |\n",
       "|Marketing|171000     |\n",
       "+---------+-----------+\n",
       "\n"
      ]
     },
     "metadata": {
      "application/vnd.databricks.v1+output": {
       "addedWidgets": {},
       "arguments": {},
       "data": "+---------+-----------+\n|dep_name |sum(salary)|\n+---------+-----------+\n|Sales    |257000     |\n|Finance  |351000     |\n|Marketing|171000     |\n+---------+-----------+\n\n",
       "datasetInfos": [],
       "metadata": {},
       "removedWidgets": [],
       "type": "ansi"
      }
     },
     "output_type": "display_data"
    }
   ],
   "source": [
    "df.groupBy(F.col(\"dep_name\")).sum(\"salary\").show(truncate=False)"
   ]
  },
  {
   "cell_type": "code",
   "execution_count": 0,
   "metadata": {
    "application/vnd.databricks.v1+cell": {
     "inputWidgets": {},
     "nuid": "4bace8bd-51ac-4a44-acd1-b5cfdf99d50b",
     "showTitle": true,
     "title": "Count"
    }
   },
   "outputs": [
    {
     "data": {
      "text/plain": [
       "+---------+-----+\n",
       "|dep_name |count|\n",
       "+---------+-----+\n",
       "|Sales    |3    |\n",
       "|Finance  |4    |\n",
       "|Marketing|2    |\n",
       "+---------+-----+\n",
       "\n"
      ]
     },
     "metadata": {
      "application/vnd.databricks.v1+output": {
       "addedWidgets": {},
       "arguments": {},
       "data": "+---------+-----+\n|dep_name |count|\n+---------+-----+\n|Sales    |3    |\n|Finance  |4    |\n|Marketing|2    |\n+---------+-----+\n\n",
       "datasetInfos": [],
       "metadata": {},
       "removedWidgets": [],
       "type": "ansi"
      }
     },
     "output_type": "display_data"
    }
   ],
   "source": [
    "df.groupBy(F.col(\"dep_name\")).count().show(truncate=False)"
   ]
  },
  {
   "cell_type": "code",
   "execution_count": 0,
   "metadata": {
    "application/vnd.databricks.v1+cell": {
     "inputWidgets": {},
     "nuid": "fc397514-f13c-4029-a9ca-9f04db743cb0",
     "showTitle": true,
     "title": "Min"
    }
   },
   "outputs": [
    {
     "data": {
      "text/plain": [
       "+---------+-----------+\n",
       "|dep_name |min(salary)|\n",
       "+---------+-----------+\n",
       "|Sales    |81000      |\n",
       "|Finance  |79000      |\n",
       "|Marketing|80000      |\n",
       "+---------+-----------+\n",
       "\n"
      ]
     },
     "metadata": {
      "application/vnd.databricks.v1+output": {
       "addedWidgets": {},
       "arguments": {},
       "data": "+---------+-----------+\n|dep_name |min(salary)|\n+---------+-----------+\n|Sales    |81000      |\n|Finance  |79000      |\n|Marketing|80000      |\n+---------+-----------+\n\n",
       "datasetInfos": [],
       "metadata": {},
       "removedWidgets": [],
       "type": "ansi"
      }
     },
     "output_type": "display_data"
    }
   ],
   "source": [
    "df.groupBy(F.col(\"dep_name\")).min(\"salary\").show(truncate=False)"
   ]
  },
  {
   "cell_type": "code",
   "execution_count": 0,
   "metadata": {
    "application/vnd.databricks.v1+cell": {
     "inputWidgets": {},
     "nuid": "3e231d05-18a9-4b9d-b1e9-3763aa432d81",
     "showTitle": true,
     "title": "Max"
    }
   },
   "outputs": [
    {
     "data": {
      "text/plain": [
       "+---------+-----------+\n",
       "|dep_name |max(salary)|\n",
       "+---------+-----------+\n",
       "|Sales    |90000      |\n",
       "|Finance  |99000      |\n",
       "|Marketing|91000      |\n",
       "+---------+-----------+\n",
       "\n"
      ]
     },
     "metadata": {
      "application/vnd.databricks.v1+output": {
       "addedWidgets": {},
       "arguments": {},
       "data": "+---------+-----------+\n|dep_name |max(salary)|\n+---------+-----------+\n|Sales    |90000      |\n|Finance  |99000      |\n|Marketing|91000      |\n+---------+-----------+\n\n",
       "datasetInfos": [],
       "metadata": {},
       "removedWidgets": [],
       "type": "ansi"
      }
     },
     "output_type": "display_data"
    }
   ],
   "source": [
    "df.groupBy(F.col(\"dep_name\")).max(\"salary\").show(truncate=False)"
   ]
  },
  {
   "cell_type": "code",
   "execution_count": 0,
   "metadata": {
    "application/vnd.databricks.v1+cell": {
     "inputWidgets": {},
     "nuid": "d4d30e3c-eb66-41ba-86e4-d2b85430183b",
     "showTitle": true,
     "title": "Mean"
    }
   },
   "outputs": [
    {
     "data": {
      "text/plain": [
       "+---------+-----------------+\n",
       "|dep_name |avg(salary)      |\n",
       "+---------+-----------------+\n",
       "|Sales    |85666.66666666667|\n",
       "|Finance  |87750.0          |\n",
       "|Marketing|85500.0          |\n",
       "+---------+-----------------+\n",
       "\n"
      ]
     },
     "metadata": {
      "application/vnd.databricks.v1+output": {
       "addedWidgets": {},
       "arguments": {},
       "data": "+---------+-----------------+\n|dep_name |avg(salary)      |\n+---------+-----------------+\n|Sales    |85666.66666666667|\n|Finance  |87750.0          |\n|Marketing|85500.0          |\n+---------+-----------------+\n\n",
       "datasetInfos": [],
       "metadata": {},
       "removedWidgets": [],
       "type": "ansi"
      }
     },
     "output_type": "display_data"
    }
   ],
   "source": [
    "df.groupBy(F.col(\"dep_name\")).mean(\"salary\").show(truncate=False)"
   ]
  },
  {
   "cell_type": "code",
   "execution_count": 0,
   "metadata": {
    "application/vnd.databricks.v1+cell": {
     "inputWidgets": {},
     "nuid": "55c8a77f-88fd-45db-9abe-f9364e392dc5",
     "showTitle": true,
     "title": "Avg"
    }
   },
   "outputs": [
    {
     "data": {
      "text/plain": [
       "+---------+-----------------+\n",
       "|dep_name |avg(salary)      |\n",
       "+---------+-----------------+\n",
       "|Sales    |85666.66666666667|\n",
       "|Finance  |87750.0          |\n",
       "|Marketing|85500.0          |\n",
       "+---------+-----------------+\n",
       "\n"
      ]
     },
     "metadata": {
      "application/vnd.databricks.v1+output": {
       "addedWidgets": {},
       "arguments": {},
       "data": "+---------+-----------------+\n|dep_name |avg(salary)      |\n+---------+-----------------+\n|Sales    |85666.66666666667|\n|Finance  |87750.0          |\n|Marketing|85500.0          |\n+---------+-----------------+\n\n",
       "datasetInfos": [],
       "metadata": {},
       "removedWidgets": [],
       "type": "ansi"
      }
     },
     "output_type": "display_data"
    }
   ],
   "source": [
    "df.groupBy(F.col(\"dep_name\")).avg(\"salary\").show(truncate=False)"
   ]
  },
  {
   "cell_type": "code",
   "execution_count": 0,
   "metadata": {
    "application/vnd.databricks.v1+cell": {
     "inputWidgets": {},
     "nuid": "3be03dd8-1b3c-4130-ba77-89abdd27f83f",
     "showTitle": true,
     "title": "Groupyby com multiplas colunas"
    }
   },
   "outputs": [
    {
     "data": {
      "text/plain": [
       "+---------+-----+-----------+----------+\n",
       "|dep_name |state|sum(salary)|sum(bonus)|\n",
       "+---------+-----+-----------+----------+\n",
       "|Sales    |NY   |171000     |33000     |\n",
       "|Sales    |CA   |86000      |20000     |\n",
       "|Finance  |CA   |169000     |38000     |\n",
       "|Finance  |NY   |182000     |43000     |\n",
       "|Marketing|NY   |91000      |21000     |\n",
       "|Marketing|CA   |80000      |18000     |\n",
       "+---------+-----+-----------+----------+\n",
       "\n"
      ]
     },
     "metadata": {
      "application/vnd.databricks.v1+output": {
       "addedWidgets": {},
       "arguments": {},
       "data": "+---------+-----+-----------+----------+\n|dep_name |state|sum(salary)|sum(bonus)|\n+---------+-----+-----------+----------+\n|Sales    |NY   |171000     |33000     |\n|Sales    |CA   |86000      |20000     |\n|Finance  |CA   |169000     |38000     |\n|Finance  |NY   |182000     |43000     |\n|Marketing|NY   |91000      |21000     |\n|Marketing|CA   |80000      |18000     |\n+---------+-----+-----------+----------+\n\n",
       "datasetInfos": [],
       "metadata": {},
       "removedWidgets": [],
       "type": "ansi"
      }
     },
     "output_type": "display_data"
    }
   ],
   "source": [
    "df.groupBy(F.col(\"dep_name\"),F.col(\"state\")).sum(\"salary\",\"bonus\").show(truncate=False)"
   ]
  },
  {
   "cell_type": "code",
   "execution_count": 0,
   "metadata": {
    "application/vnd.databricks.v1+cell": {
     "inputWidgets": {},
     "nuid": "3f1d1755-df2d-4a7a-86b9-4e138906ab61",
     "showTitle": true,
     "title": "Agg"
    }
   },
   "outputs": [
    {
     "data": {
      "text/plain": [
       "+---------+----------+-----------------+---------+---------+---------+\n",
       "|dep_name |Sum_salary|Avg_salary       |Sum_bonus|Max_bonus|Min_bonus|\n",
       "+---------+----------+-----------------+---------+---------+---------+\n",
       "|Sales    |257000    |85666.66666666667|53000    |23000    |10000    |\n",
       "|Finance  |351000    |87750.0          |81000    |24000    |15000    |\n",
       "|Marketing|171000    |85500.0          |39000    |21000    |18000    |\n",
       "+---------+----------+-----------------+---------+---------+---------+\n",
       "\n"
      ]
     },
     "metadata": {
      "application/vnd.databricks.v1+output": {
       "addedWidgets": {},
       "arguments": {},
       "data": "+---------+----------+-----------------+---------+---------+---------+\n|dep_name |Sum_salary|Avg_salary       |Sum_bonus|Max_bonus|Min_bonus|\n+---------+----------+-----------------+---------+---------+---------+\n|Sales    |257000    |85666.66666666667|53000    |23000    |10000    |\n|Finance  |351000    |87750.0          |81000    |24000    |15000    |\n|Marketing|171000    |85500.0          |39000    |21000    |18000    |\n+---------+----------+-----------------+---------+---------+---------+\n\n",
       "datasetInfos": [],
       "metadata": {},
       "removedWidgets": [],
       "type": "ansi"
      }
     },
     "output_type": "display_data"
    }
   ],
   "source": [
    "df.groupBy(F.col(\"dep_name\")) \\\n",
    ".agg(F.sum(\"salary\").alias(\"Sum_salary\"), \\\n",
    "    F.avg(\"salary\").alias(\"Avg_salary\"), \\\n",
    "    F.sum(\"bonus\").alias(\"Sum_bonus\"), \\\n",
    "    F.max(\"bonus\").alias(\"Max_bonus\"), \\\n",
    "    F.min(\"bonus\").alias(\"Min_bonus\")    \n",
    "    ).show(truncate=False)"
   ]
  },
  {
   "cell_type": "code",
   "execution_count": 0,
   "metadata": {
    "application/vnd.databricks.v1+cell": {
     "inputWidgets": {},
     "nuid": "54a6cca8-4242-4399-b26a-61879a7638a5",
     "showTitle": true,
     "title": "Filtrando DataFrame Agrupado"
    }
   },
   "outputs": [
    {
     "data": {
      "text/plain": [
       "+---------+----------+-----------------+---------+---------+---------+\n",
       "|dep_name |Sum_salary|Avg_salary       |Sum_bonus|Max_bonus|Min_bonus|\n",
       "+---------+----------+-----------------+---------+---------+---------+\n",
       "|Sales    |257000    |85666.66666666667|53000    |23000    |10000    |\n",
       "|Finance  |351000    |87750.0          |81000    |24000    |15000    |\n",
       "|Marketing|171000    |85500.0          |39000    |21000    |18000    |\n",
       "+---------+----------+-----------------+---------+---------+---------+\n",
       "\n"
      ]
     },
     "metadata": {
      "application/vnd.databricks.v1+output": {
       "addedWidgets": {},
       "arguments": {},
       "data": "+---------+----------+-----------------+---------+---------+---------+\n|dep_name |Sum_salary|Avg_salary       |Sum_bonus|Max_bonus|Min_bonus|\n+---------+----------+-----------------+---------+---------+---------+\n|Sales    |257000    |85666.66666666667|53000    |23000    |10000    |\n|Finance  |351000    |87750.0          |81000    |24000    |15000    |\n|Marketing|171000    |85500.0          |39000    |21000    |18000    |\n+---------+----------+-----------------+---------+---------+---------+\n\n",
       "datasetInfos": [],
       "metadata": {},
       "removedWidgets": [],
       "type": "ansi"
      }
     },
     "output_type": "display_data"
    }
   ],
   "source": [
    "df.groupBy(F.col(\"dep_name\")) \\\n",
    ".agg(F.sum(\"salary\").alias(\"Sum_salary\"), \\\n",
    "    F.avg(\"salary\").alias(\"Avg_salary\"), \\\n",
    "    F.sum(\"bonus\").alias(\"Sum_bonus\"), \\\n",
    "    F.max(\"bonus\").alias(\"Max_bonus\"), \\\n",
    "    F.min(\"bonus\").alias(\"Min_bonus\")    \n",
    "    ).where(F.col(\"Sum_salary\") >= 79000 ).show(truncate=False)"
   ]
  }
 ],
 "metadata": {
  "application/vnd.databricks.v1+notebook": {
   "dashboards": [],
   "language": "python",
   "notebookMetadata": {
    "pythonIndentUnit": 4
   },
   "notebookName": "aula07_agrupamento",
   "notebookOrigID": 3261836255702973,
   "widgets": {}
  },
  "kernelspec": {
   "display_name": "Python 3 (ipykernel)",
   "language": "python",
   "name": "python3"
  },
  "language_info": {
   "codemirror_mode": {
    "name": "ipython",
    "version": 3
   },
   "file_extension": ".py",
   "mimetype": "text/x-python",
   "name": "python",
   "nbconvert_exporter": "python",
   "pygments_lexer": "ipython3",
   "version": "3.9.7"
  }
 },
 "nbformat": 4,
 "nbformat_minor": 1
}
