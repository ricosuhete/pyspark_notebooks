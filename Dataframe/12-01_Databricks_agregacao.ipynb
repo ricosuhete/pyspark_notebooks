{
 "cells": [
  {
   "cell_type": "code",
   "execution_count": 0,
   "metadata": {
    "application/vnd.databricks.v1+cell": {
     "inputWidgets": {},
     "nuid": "43fa5584-46cc-48a3-abcc-bde295d12a4a",
     "showTitle": true,
     "title": "DataFrame que será utilizado"
    }
   },
   "outputs": [
    {
     "data": {
      "text/plain": [
       "root\n",
       " |-- emp_name: string (nullable = true)\n",
       " |-- dep_name: string (nullable = true)\n",
       " |-- state: string (nullable = true)\n",
       " |-- salary: long (nullable = true)\n",
       " |-- age: long (nullable = true)\n",
       " |-- bonus: long (nullable = true)\n",
       "\n",
       "+--------+---------+-----+------+---+-----+\n",
       "|emp_name|dep_name |state|salary|age|bonus|\n",
       "+--------+---------+-----+------+---+-----+\n",
       "|Anderson|Sales    |NY   |90000 |34 |10000|\n",
       "|Kenedy  |Sales    |CA   |86000 |56 |20000|\n",
       "|Billy   |Sales    |NY   |81000 |30 |23000|\n",
       "|Andy    |Finance  |CA   |90000 |24 |23000|\n",
       "|Mary    |Finance  |NY   |99000 |40 |24000|\n",
       "|Eduardo |Finance  |NY   |83000 |36 |19000|\n",
       "|Mendes  |Finance  |CA   |79000 |53 |15000|\n",
       "|Keyth   |Marketing|CA   |80000 |25 |18000|\n",
       "|Truman  |Marketing|NY   |91000 |50 |21000|\n",
       "+--------+---------+-----+------+---+-----+\n",
       "\n"
      ]
     },
     "metadata": {
      "application/vnd.databricks.v1+output": {
       "addedWidgets": {},
       "arguments": {},
       "data": "root\n |-- emp_name: string (nullable = true)\n |-- dep_name: string (nullable = true)\n |-- state: string (nullable = true)\n |-- salary: long (nullable = true)\n |-- age: long (nullable = true)\n |-- bonus: long (nullable = true)\n\n+--------+---------+-----+------+---+-----+\n|emp_name|dep_name |state|salary|age|bonus|\n+--------+---------+-----+------+---+-----+\n|Anderson|Sales    |NY   |90000 |34 |10000|\n|Kenedy  |Sales    |CA   |86000 |56 |20000|\n|Billy   |Sales    |NY   |81000 |30 |23000|\n|Andy    |Finance  |CA   |90000 |24 |23000|\n|Mary    |Finance  |NY   |99000 |40 |24000|\n|Eduardo |Finance  |NY   |83000 |36 |19000|\n|Mendes  |Finance  |CA   |79000 |53 |15000|\n|Keyth   |Marketing|CA   |80000 |25 |18000|\n|Truman  |Marketing|NY   |91000 |50 |21000|\n+--------+---------+-----+------+---+-----+\n\n",
       "datasetInfos": [],
       "metadata": {},
       "removedWidgets": [],
       "type": "ansi"
      }
     },
     "output_type": "display_data"
    }
   ],
   "source": [
    "import pyspark.sql.functions as F\n",
    "data = [(\"Anderson\",\"Sales\",\"NY\",90000,34,10000),\n",
    "    (\"Kenedy\",\"Sales\",\"CA\",86000,56,20000),\n",
    "    (\"Billy\",\"Sales\",\"NY\",81000,30,23000),\n",
    "    (\"Andy\",\"Finance\",\"CA\",90000,24,23000),\n",
    "    (\"Mary\",\"Finance\",\"NY\",99000,40,24000),\n",
    "    (\"Eduardo\",\"Finance\",\"NY\",83000,36,19000),\n",
    "    (\"Mendes\",\"Finance\",\"CA\",79000,53,15000),\n",
    "    (\"Keyth\",\"Marketing\",\"CA\",80000,25,18000),\n",
    "    (\"Truman\",\"Marketing\",\"NY\",91000,50,21000)\n",
    "  ]\n",
    "\n",
    "schema = [\"emp_name\",\"dep_name\",\"state\",\"salary\",\"age\",\"bonus\"]\n",
    "df = spark.createDataFrame(data=data, schema = schema)\n",
    "df.printSchema()\n",
    "df.show(truncate=False)"
   ]
  },
  {
   "cell_type": "code",
   "execution_count": 0,
   "metadata": {
    "application/vnd.databricks.v1+cell": {
     "inputWidgets": {},
     "nuid": "aab054c2-e384-47a8-a60f-29f108063c0c",
     "showTitle": false,
     "title": ""
    }
   },
   "outputs": [
    {
     "data": {
      "text/html": [
       "<style scoped>\n",
       "  .table-result-container {\n",
       "    max-height: 300px;\n",
       "    overflow: auto;\n",
       "  }\n",
       "  table, th, td {\n",
       "    border: 1px solid black;\n",
       "    border-collapse: collapse;\n",
       "  }\n",
       "  th, td {\n",
       "    padding: 5px;\n",
       "  }\n",
       "  th {\n",
       "    text-align: left;\n",
       "  }\n",
       "</style><div class='table-result-container'><table class='table-result'><thead style='background-color: white'><tr><th>emp_name</th><th>dep_name</th><th>state</th><th>salary</th><th>age</th><th>bonus</th><th>id</th></tr></thead><tbody><tr><td>Anderson</td><td>Sales</td><td>NY</td><td>90000</td><td>34</td><td>10000</td><td>0</td></tr><tr><td>Kenedy</td><td>Sales</td><td>CA</td><td>86000</td><td>56</td><td>20000</td><td>8589934592</td></tr><tr><td>Billy</td><td>Sales</td><td>NY</td><td>81000</td><td>30</td><td>23000</td><td>17179869184</td></tr><tr><td>Andy</td><td>Finance</td><td>CA</td><td>90000</td><td>24</td><td>23000</td><td>25769803776</td></tr><tr><td>Mary</td><td>Finance</td><td>NY</td><td>99000</td><td>40</td><td>24000</td><td>34359738368</td></tr><tr><td>Eduardo</td><td>Finance</td><td>NY</td><td>83000</td><td>36</td><td>19000</td><td>42949672960</td></tr><tr><td>Mendes</td><td>Finance</td><td>CA</td><td>79000</td><td>53</td><td>15000</td><td>51539607552</td></tr><tr><td>Keyth</td><td>Marketing</td><td>CA</td><td>80000</td><td>25</td><td>18000</td><td>60129542144</td></tr><tr><td>Truman</td><td>Marketing</td><td>NY</td><td>91000</td><td>50</td><td>21000</td><td>60129542145</td></tr></tbody></table></div>"
      ]
     },
     "metadata": {
      "application/vnd.databricks.v1+output": {
       "addedWidgets": {},
       "aggData": [],
       "aggError": "",
       "aggOverflow": false,
       "aggSchema": [],
       "aggSeriesLimitReached": false,
       "aggType": "",
       "arguments": {},
       "columnCustomDisplayInfos": {},
       "data": [
        [
         "Anderson",
         "Sales",
         "NY",
         90000,
         34,
         10000,
         0
        ],
        [
         "Kenedy",
         "Sales",
         "CA",
         86000,
         56,
         20000,
         8589934592
        ],
        [
         "Billy",
         "Sales",
         "NY",
         81000,
         30,
         23000,
         17179869184
        ],
        [
         "Andy",
         "Finance",
         "CA",
         90000,
         24,
         23000,
         25769803776
        ],
        [
         "Mary",
         "Finance",
         "NY",
         99000,
         40,
         24000,
         34359738368
        ],
        [
         "Eduardo",
         "Finance",
         "NY",
         83000,
         36,
         19000,
         42949672960
        ],
        [
         "Mendes",
         "Finance",
         "CA",
         79000,
         53,
         15000,
         51539607552
        ],
        [
         "Keyth",
         "Marketing",
         "CA",
         80000,
         25,
         18000,
         60129542144
        ],
        [
         "Truman",
         "Marketing",
         "NY",
         91000,
         50,
         21000,
         60129542145
        ]
       ],
       "datasetInfos": [],
       "dbfsResultPath": null,
       "isJsonSchema": true,
       "metadata": {},
       "overflow": false,
       "plotOptions": {
        "customPlotOptions": {},
        "displayType": "table",
        "pivotAggregation": null,
        "pivotColumns": [],
        "xColumns": [],
        "yColumns": []
       },
       "removedWidgets": [],
       "schema": [
        {
         "metadata": "{}",
         "name": "emp_name",
         "type": "\"string\""
        },
        {
         "metadata": "{}",
         "name": "dep_name",
         "type": "\"string\""
        },
        {
         "metadata": "{}",
         "name": "state",
         "type": "\"string\""
        },
        {
         "metadata": "{}",
         "name": "salary",
         "type": "\"long\""
        },
        {
         "metadata": "{}",
         "name": "age",
         "type": "\"long\""
        },
        {
         "metadata": "{}",
         "name": "bonus",
         "type": "\"long\""
        },
        {
         "metadata": "{}",
         "name": "id",
         "type": "\"long\""
        }
       ],
       "type": "table"
      }
     },
     "output_type": "display_data"
    }
   ],
   "source": [
    "from pyspark.sql.functions import monotonically_increasing_id\n",
    "\n",
    "df = df.withColumn(\"id\", monotonically_increasing_id())\n",
    "display(df)\n"
   ]
  },
  {
   "cell_type": "code",
   "execution_count": 0,
   "metadata": {
    "application/vnd.databricks.v1+cell": {
     "inputWidgets": {},
     "nuid": "e2c36478-5586-490c-af32-6827fa6477b2",
     "showTitle": true,
     "title": "approx_count_distinct Aggregate Function"
    }
   },
   "outputs": [
    {
     "data": {
      "text/plain": [
       "approx_count_distinct: 8\n"
      ]
     },
     "metadata": {
      "application/vnd.databricks.v1+output": {
       "addedWidgets": {},
       "arguments": {},
       "data": "approx_count_distinct: 8\n",
       "datasetInfos": [],
       "metadata": {},
       "removedWidgets": [],
       "type": "ansi"
      }
     },
     "output_type": "display_data"
    }
   ],
   "source": [
    "#Verificar Salarios Unicos\n",
    "approx = df.select(F.approx_count_distinct(\"salary\")).collect()[0][0]\n",
    "print(f\"approx_count_distinct: {approx}\")"
   ]
  },
  {
   "cell_type": "code",
   "execution_count": 0,
   "metadata": {
    "application/vnd.databricks.v1+cell": {
     "inputWidgets": {},
     "nuid": "c00bf2c3-76fd-4c9d-8f9e-b539bb0b4421",
     "showTitle": true,
     "title": "avg (average) Aggregate Function"
    }
   },
   "outputs": [
    {
     "data": {
      "text/plain": [
       "avg: 86555.55555555556\n"
      ]
     },
     "metadata": {
      "application/vnd.databricks.v1+output": {
       "addedWidgets": {},
       "arguments": {},
       "data": "avg: 86555.55555555556\n",
       "datasetInfos": [],
       "metadata": {},
       "removedWidgets": [],
       "type": "ansi"
      }
     },
     "output_type": "display_data"
    }
   ],
   "source": [
    "avg = df.select(F.avg(\"salary\")).collect()[0][0]\n",
    "print(f\"avg: {avg}\")"
   ]
  },
  {
   "cell_type": "code",
   "execution_count": 0,
   "metadata": {
    "application/vnd.databricks.v1+cell": {
     "inputWidgets": {},
     "nuid": "de5982e1-21d8-4315-adc4-17b41f282ad4",
     "showTitle": true,
     "title": "collect_list Aggregate Function"
    }
   },
   "outputs": [
    {
     "data": {
      "text/plain": [
       "+---------------------------------------------------------------+\n",
       "|collect_list(salary)                                           |\n",
       "+---------------------------------------------------------------+\n",
       "|[90000, 86000, 81000, 90000, 99000, 83000, 79000, 80000, 91000]|\n",
       "+---------------------------------------------------------------+\n",
       "\n"
      ]
     },
     "metadata": {
      "application/vnd.databricks.v1+output": {
       "addedWidgets": {},
       "arguments": {},
       "data": "+---------------------------------------------------------------+\n|collect_list(salary)                                           |\n+---------------------------------------------------------------+\n|[90000, 86000, 81000, 90000, 99000, 83000, 79000, 80000, 91000]|\n+---------------------------------------------------------------+\n\n",
       "datasetInfos": [],
       "metadata": {},
       "removedWidgets": [],
       "type": "ansi"
      }
     },
     "output_type": "display_data"
    }
   ],
   "source": [
    "#Agrupar um uma lista\n",
    "df.select(F.collect_list(\"salary\")).show(truncate=False)"
   ]
  },
  {
   "cell_type": "code",
   "execution_count": 0,
   "metadata": {
    "application/vnd.databricks.v1+cell": {
     "inputWidgets": {},
     "nuid": "09d21b6d-3286-4680-9a50-02a91b050d77",
     "showTitle": true,
     "title": "collect_set Aggregate Function"
    }
   },
   "outputs": [
    {
     "data": {
      "text/plain": [
       "+--------------------------------------------------------+\n",
       "|collect_set(salary)                                     |\n",
       "+--------------------------------------------------------+\n",
       "|[79000, 83000, 91000, 99000, 90000, 80000, 86000, 81000]|\n",
       "+--------------------------------------------------------+\n",
       "\n"
      ]
     },
     "metadata": {
      "application/vnd.databricks.v1+output": {
       "addedWidgets": {},
       "arguments": {},
       "data": "+--------------------------------------------------------+\n|collect_set(salary)                                     |\n+--------------------------------------------------------+\n|[79000, 83000, 91000, 99000, 90000, 80000, 86000, 81000]|\n+--------------------------------------------------------+\n\n",
       "datasetInfos": [],
       "metadata": {},
       "removedWidgets": [],
       "type": "ansi"
      }
     },
     "output_type": "display_data"
    }
   ],
   "source": [
    "#Retorna uma lista de valores únicos\n",
    "df.select(F.collect_set(\"salary\")).show(truncate=False)"
   ]
  },
  {
   "cell_type": "code",
   "execution_count": 0,
   "metadata": {
    "application/vnd.databricks.v1+cell": {
     "inputWidgets": {},
     "nuid": "d15454dd-0cb3-48b0-ba97-73263830dbe1",
     "showTitle": true,
     "title": "countDistinct Aggregate Function"
    }
   },
   "outputs": [
    {
     "data": {
      "text/plain": [
       "+---------------+--------------------+--------------------------------------------+\n",
       "|Salarios únicos|Departamentos únicos|Salarios únicos em relação aos departamentos|\n",
       "+---------------+--------------------+--------------------------------------------+\n",
       "|              8|                   3|                                           9|\n",
       "+---------------+--------------------+--------------------------------------------+\n",
       "\n"
      ]
     },
     "metadata": {
      "application/vnd.databricks.v1+output": {
       "addedWidgets": {},
       "arguments": {},
       "data": "+---------------+--------------------+--------------------------------------------+\n|Salarios únicos|Departamentos únicos|Salarios únicos em relação aos departamentos|\n+---------------+--------------------+--------------------------------------------+\n|              8|                   3|                                           9|\n+---------------+--------------------+--------------------------------------------+\n\n",
       "datasetInfos": [],
       "metadata": {},
       "removedWidgets": [],
       "type": "ansi"
      }
     },
     "output_type": "display_data"
    }
   ],
   "source": [
    "#Retorna numero de elementos distintos em uma coluna\n",
    "df2 = df.select((F.countDistinct(F.col(\"salary\")).alias(\"Salarios únicos\")), (F.countDistinct(F.col(\"dep_name\")).alias(\"Departamentos únicos\")), (F.countDistinct(F.col(\"dep_name\"), F.col(\"salary\")).alias(\"Salarios únicos em relação aos departamentos\")))\n",
    "df2.show()\n"
   ]
  },
  {
   "cell_type": "code",
   "execution_count": 0,
   "metadata": {
    "application/vnd.databricks.v1+cell": {
     "inputWidgets": {},
     "nuid": "0937636a-0e10-4cf3-86dd-39defea0596d",
     "showTitle": false,
     "title": ""
    }
   },
   "outputs": [
    {
     "data": {
      "text/plain": [
       "Contagem distinta de departamentos e salários: Row(Salarios únicos=8, Departamentos únicos=3, Salarios únicos em relação aos departamentos=9)\n"
      ]
     },
     "metadata": {
      "application/vnd.databricks.v1+output": {
       "addedWidgets": {},
       "arguments": {},
       "data": "Contagem distinta de departamentos e salários: Row(Salarios únicos=8, Departamentos únicos=3, Salarios únicos em relação aos departamentos=9)\n",
       "datasetInfos": [],
       "metadata": {},
       "removedWidgets": [],
       "type": "ansi"
      }
     },
     "output_type": "display_data"
    }
   ],
   "source": [
    "print(f\"Contagem distinta de departamentos e salários: {df2.collect()[0]}\")"
   ]
  },
  {
   "cell_type": "code",
   "execution_count": 0,
   "metadata": {
    "application/vnd.databricks.v1+cell": {
     "inputWidgets": {},
     "nuid": "720828ba-1c31-44fd-8bb0-5e289f00988d",
     "showTitle": true,
     "title": "count function"
    }
   },
   "outputs": [
    {
     "data": {
      "text/plain": [
       "Count Salarios: 9\n"
      ]
     },
     "metadata": {
      "application/vnd.databricks.v1+output": {
       "addedWidgets": {},
       "arguments": {},
       "data": "Count Salarios: 9\n",
       "datasetInfos": [],
       "metadata": {},
       "removedWidgets": [],
       "type": "ansi"
      }
     },
     "output_type": "display_data"
    }
   ],
   "source": [
    "salary = df.select(F.count(\"salary\")).collect()[0][0]\n",
    "print(f\"Count Salarios: {salary}\")"
   ]
  },
  {
   "cell_type": "code",
   "execution_count": 0,
   "metadata": {
    "application/vnd.databricks.v1+cell": {
     "inputWidgets": {},
     "nuid": "9458f51d-9855-4f26-be9a-24428b72e75b",
     "showTitle": true,
     "title": "first function"
    }
   },
   "outputs": [
    {
     "data": {
      "text/plain": [
       "+-------------+\n",
       "|first(salary)|\n",
       "+-------------+\n",
       "|90000        |\n",
       "+-------------+\n",
       "\n"
      ]
     },
     "metadata": {
      "application/vnd.databricks.v1+output": {
       "addedWidgets": {},
       "arguments": {},
       "data": "+-------------+\n|first(salary)|\n+-------------+\n|90000        |\n+-------------+\n\n",
       "datasetInfos": [],
       "metadata": {},
       "removedWidgets": [],
       "type": "ansi"
      }
     },
     "output_type": "display_data"
    }
   ],
   "source": [
    "df.select(F.first(\"salary\")).show(truncate=False)"
   ]
  },
  {
   "cell_type": "code",
   "execution_count": 0,
   "metadata": {
    "application/vnd.databricks.v1+cell": {
     "inputWidgets": {},
     "nuid": "14262b15-7470-452d-866e-c31baec09145",
     "showTitle": true,
     "title": "Max"
    }
   },
   "outputs": [
    {
     "data": {
      "text/plain": [
       "+-----------+\n",
       "|max(salary)|\n",
       "+-----------+\n",
       "|99000      |\n",
       "+-----------+\n",
       "\n"
      ]
     },
     "metadata": {
      "application/vnd.databricks.v1+output": {
       "addedWidgets": {},
       "arguments": {},
       "data": "+-----------+\n|max(salary)|\n+-----------+\n|99000      |\n+-----------+\n\n",
       "datasetInfos": [],
       "metadata": {},
       "removedWidgets": [],
       "type": "ansi"
      }
     },
     "output_type": "display_data"
    }
   ],
   "source": [
    "df.select(F.max(F.col(\"salary\"))).show(truncate=False)"
   ]
  },
  {
   "cell_type": "code",
   "execution_count": 0,
   "metadata": {
    "application/vnd.databricks.v1+cell": {
     "inputWidgets": {},
     "nuid": "f71cda66-ada5-40be-9b42-5e1bb62788b1",
     "showTitle": true,
     "title": "Min"
    }
   },
   "outputs": [
    {
     "data": {
      "text/plain": [
       "+-----------+\n",
       "|min(salary)|\n",
       "+-----------+\n",
       "|79000      |\n",
       "+-----------+\n",
       "\n"
      ]
     },
     "metadata": {
      "application/vnd.databricks.v1+output": {
       "addedWidgets": {},
       "arguments": {},
       "data": "+-----------+\n|min(salary)|\n+-----------+\n|79000      |\n+-----------+\n\n",
       "datasetInfos": [],
       "metadata": {},
       "removedWidgets": [],
       "type": "ansi"
      }
     },
     "output_type": "display_data"
    }
   ],
   "source": [
    "df.select(F.min(F.col(\"salary\"))).show(truncate=False)"
   ]
  },
  {
   "cell_type": "code",
   "execution_count": 0,
   "metadata": {
    "application/vnd.databricks.v1+cell": {
     "inputWidgets": {},
     "nuid": "3c3606a9-5f0d-4c29-adaa-a5ea31cb6df3",
     "showTitle": true,
     "title": "Sum"
    }
   },
   "outputs": [
    {
     "data": {
      "text/plain": [
       "+-----------+\n",
       "|sum(salary)|\n",
       "+-----------+\n",
       "|779000     |\n",
       "+-----------+\n",
       "\n"
      ]
     },
     "metadata": {
      "application/vnd.databricks.v1+output": {
       "addedWidgets": {},
       "arguments": {},
       "data": "+-----------+\n|sum(salary)|\n+-----------+\n|779000     |\n+-----------+\n\n",
       "datasetInfos": [],
       "metadata": {},
       "removedWidgets": [],
       "type": "ansi"
      }
     },
     "output_type": "display_data"
    }
   ],
   "source": [
    "df.select(F.sum(F.col(\"salary\"))).show(truncate=False)"
   ]
  }
 ],
 "metadata": {
  "application/vnd.databricks.v1+notebook": {
   "dashboards": [],
   "language": "python",
   "notebookMetadata": {
    "pythonIndentUnit": 4
   },
   "notebookName": "aula08_agregacao",
   "notebookOrigID": 3261836255703041,
   "widgets": {}
  },
  "kernelspec": {
   "display_name": "Python 3 (ipykernel)",
   "language": "python",
   "name": "python3"
  },
  "language_info": {
   "codemirror_mode": {
    "name": "ipython",
    "version": 3
   },
   "file_extension": ".py",
   "mimetype": "text/x-python",
   "name": "python",
   "nbconvert_exporter": "python",
   "pygments_lexer": "ipython3",
   "version": "3.9.7"
  }
 },
 "nbformat": 4,
 "nbformat_minor": 1
}
