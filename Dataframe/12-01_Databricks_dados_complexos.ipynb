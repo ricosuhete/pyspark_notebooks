{
 "cells": [
  {
   "cell_type": "code",
   "execution_count": 0,
   "metadata": {
    "application/vnd.databricks.v1+cell": {
     "inputWidgets": {},
     "nuid": "be1b4a8b-a622-4d22-aac9-a0aa22d3c1e4",
     "showTitle": true,
     "title": "Complex Types"
    }
   },
   "outputs": [],
   "source": [
    "import pyspark.sql.functions as F\n",
    "from pyspark.sql.types import ArrayType, DoubleType, IntegerType, LongType, StringType, StructType, StructField, BooleanType, MapType\n",
    "from pyspark.sql import Row"
   ]
  },
  {
   "cell_type": "code",
   "execution_count": 0,
   "metadata": {
    "application/vnd.databricks.v1+cell": {
     "inputWidgets": {},
     "nuid": "c1bbaeb3-8fa9-4b4a-8cf4-c453302d496a",
     "showTitle": true,
     "title": "Criação do DataFrame para o exemplo"
    }
   },
   "outputs": [],
   "source": [
    "data = [Row(\"Kenny\",\"\",10,[50,90,80],{\"status\":\"Active\"}), \n",
    "        Row(\"Elis\",\"Robert\",20,[10,56,43,20],{\"status\":\"Inactive\"}), \n",
    "        Row(\"Myck\",\"Mendes\",30,[18,50,32],{\"status\":\"Active\"}), \n",
    "        Row(\"Edson\",\"Eliot\",40,[60,87,3],{\"status\":\"Active\"}) \n",
    "      ]\n",
    "\n",
    "rdd = spark.sparkContext.parallelize(data)\n"
   ]
  },
  {
   "cell_type": "code",
   "execution_count": 0,
   "metadata": {
    "application/vnd.databricks.v1+cell": {
     "inputWidgets": {},
     "nuid": "beed5584-56b3-4779-b9e3-a3ff5962dff7",
     "showTitle": true,
     "title": "Criação do Esquema"
    }
   },
   "outputs": [],
   "source": [
    "scheme = StructType([\n",
    "         StructField('firstname', StringType(), True),\n",
    "         StructField('middlename', StringType(), True),\n",
    "         StructField('age', IntegerType(), True),\n",
    "         StructField(\"points\", ArrayType(StringType()), True),\n",
    "         StructField(\"user_state\", MapType(StringType(),StringType()), True)        \n",
    "         ])"
   ]
  },
  {
   "cell_type": "code",
   "execution_count": 0,
   "metadata": {
    "application/vnd.databricks.v1+cell": {
     "inputWidgets": {},
     "nuid": "cbf9de40-32d3-4894-9df6-180d6287726d",
     "showTitle": true,
     "title": "Conversão de RDD para DataFrame"
    }
   },
   "outputs": [],
   "source": [
    "df = rdd.toDF(schema=scheme)"
   ]
  },
  {
   "cell_type": "code",
   "execution_count": 0,
   "metadata": {
    "application/vnd.databricks.v1+cell": {
     "inputWidgets": {},
     "nuid": "803378b3-78c7-45c1-b780-861990d67b36",
     "showTitle": false,
     "title": ""
    }
   },
   "outputs": [
    {
     "data": {
      "text/plain": [
       "root\n",
       " |-- firstname: string (nullable = true)\n",
       " |-- middlename: string (nullable = true)\n",
       " |-- age: integer (nullable = true)\n",
       " |-- points: array (nullable = true)\n",
       " |    |-- element: string (containsNull = true)\n",
       " |-- user_state: map (nullable = true)\n",
       " |    |-- key: string\n",
       " |    |-- value: string (valueContainsNull = true)\n",
       "\n"
      ]
     },
     "metadata": {
      "application/vnd.databricks.v1+output": {
       "addedWidgets": {},
       "arguments": {},
       "data": "root\n |-- firstname: string (nullable = true)\n |-- middlename: string (nullable = true)\n |-- age: integer (nullable = true)\n |-- points: array (nullable = true)\n |    |-- element: string (containsNull = true)\n |-- user_state: map (nullable = true)\n |    |-- key: string\n |    |-- value: string (valueContainsNull = true)\n\n",
       "datasetInfos": [],
       "metadata": {},
       "removedWidgets": [],
       "type": "ansi"
      }
     },
     "output_type": "display_data"
    }
   ],
   "source": [
    "df.printSchema()"
   ]
  },
  {
   "cell_type": "code",
   "execution_count": 0,
   "metadata": {
    "application/vnd.databricks.v1+cell": {
     "inputWidgets": {},
     "nuid": "7563441a-e30f-4814-af12-55aae397b379",
     "showTitle": true,
     "title": "Display do DataFrame"
    }
   },
   "outputs": [
    {
     "data": {
      "text/html": [
       "<style scoped>\n",
       "  .table-result-container {\n",
       "    max-height: 300px;\n",
       "    overflow: auto;\n",
       "  }\n",
       "  table, th, td {\n",
       "    border: 1px solid black;\n",
       "    border-collapse: collapse;\n",
       "  }\n",
       "  th, td {\n",
       "    padding: 5px;\n",
       "  }\n",
       "  th {\n",
       "    text-align: left;\n",
       "  }\n",
       "</style><div class='table-result-container'><table class='table-result'><thead style='background-color: white'><tr><th>firstname</th><th>middlename</th><th>age</th><th>points</th><th>user_state</th></tr></thead><tbody><tr><td>Kenny</td><td></td><td>10</td><td>List(50, 90, 80)</td><td>Map(status -> Active)</td></tr><tr><td>Elis</td><td>Robert</td><td>20</td><td>List(10, 56, 43, 20)</td><td>Map(status -> Inactive)</td></tr><tr><td>Myck</td><td>Mendes</td><td>30</td><td>List(18, 50, 32)</td><td>Map(status -> Active)</td></tr><tr><td>Edson</td><td>Eliot</td><td>40</td><td>List(60, 87, 3)</td><td>Map(status -> Active)</td></tr></tbody></table></div>"
      ]
     },
     "metadata": {
      "application/vnd.databricks.v1+output": {
       "addedWidgets": {},
       "aggData": [],
       "aggError": "",
       "aggOverflow": false,
       "aggSchema": [],
       "aggSeriesLimitReached": false,
       "aggType": "",
       "arguments": {},
       "columnCustomDisplayInfos": {},
       "data": [
        [
         "Kenny",
         "",
         10,
         [
          "50",
          "90",
          "80"
         ],
         {
          "status": "Active"
         }
        ],
        [
         "Elis",
         "Robert",
         20,
         [
          "10",
          "56",
          "43",
          "20"
         ],
         {
          "status": "Inactive"
         }
        ],
        [
         "Myck",
         "Mendes",
         30,
         [
          "18",
          "50",
          "32"
         ],
         {
          "status": "Active"
         }
        ],
        [
         "Edson",
         "Eliot",
         40,
         [
          "60",
          "87",
          "3"
         ],
         {
          "status": "Active"
         }
        ]
       ],
       "datasetInfos": [],
       "dbfsResultPath": null,
       "isJsonSchema": true,
       "metadata": {},
       "overflow": false,
       "plotOptions": {
        "customPlotOptions": {},
        "displayType": "table",
        "pivotAggregation": null,
        "pivotColumns": [],
        "xColumns": [],
        "yColumns": []
       },
       "removedWidgets": [],
       "schema": [
        {
         "metadata": "{}",
         "name": "firstname",
         "type": "\"string\""
        },
        {
         "metadata": "{}",
         "name": "middlename",
         "type": "\"string\""
        },
        {
         "metadata": "{}",
         "name": "age",
         "type": "\"integer\""
        },
        {
         "metadata": "{}",
         "name": "points",
         "type": "{\"type\":\"array\",\"elementType\":\"string\",\"containsNull\":true}"
        },
        {
         "metadata": "{}",
         "name": "user_state",
         "type": "{\"type\":\"map\",\"keyType\":\"string\",\"valueType\":\"string\",\"valueContainsNull\":true}"
        }
       ],
       "type": "table"
      }
     },
     "output_type": "display_data"
    }
   ],
   "source": [
    "display(df)"
   ]
  },
  {
   "cell_type": "code",
   "execution_count": 0,
   "metadata": {
    "application/vnd.databricks.v1+cell": {
     "inputWidgets": {},
     "nuid": "fec37109-7dee-4f41-a3df-ab8d339ef06d",
     "showTitle": false,
     "title": ""
    }
   },
   "outputs": [
    {
     "data": {
      "text/plain": [
       "+---------+----------+---+----------------+--------------------+\n",
       "|firstname|middlename|age|points          |user_state          |\n",
       "+---------+----------+---+----------------+--------------------+\n",
       "|Kenny    |          |10 |[50, 90, 80]    |{status -> Active}  |\n",
       "|Elis     |Robert    |20 |[10, 56, 43, 20]|{status -> Inactive}|\n",
       "|Myck     |Mendes    |30 |[18, 50, 32]    |{status -> Active}  |\n",
       "|Edson    |Eliot     |40 |[60, 87, 3]     |{status -> Active}  |\n",
       "+---------+----------+---+----------------+--------------------+\n",
       "\n"
      ]
     },
     "metadata": {
      "application/vnd.databricks.v1+output": {
       "addedWidgets": {},
       "arguments": {},
       "data": "+---------+----------+---+----------------+--------------------+\n|firstname|middlename|age|points          |user_state          |\n+---------+----------+---+----------------+--------------------+\n|Kenny    |          |10 |[50, 90, 80]    |{status -> Active}  |\n|Elis     |Robert    |20 |[10, 56, 43, 20]|{status -> Inactive}|\n|Myck     |Mendes    |30 |[18, 50, 32]    |{status -> Active}  |\n|Edson    |Eliot     |40 |[60, 87, 3]     |{status -> Active}  |\n+---------+----------+---+----------------+--------------------+\n\n",
       "datasetInfos": [],
       "metadata": {},
       "removedWidgets": [],
       "type": "ansi"
      }
     },
     "output_type": "display_data"
    }
   ],
   "source": [
    "df.show(truncate=False)"
   ]
  },
  {
   "cell_type": "code",
   "execution_count": 0,
   "metadata": {
    "application/vnd.databricks.v1+cell": {
     "inputWidgets": {},
     "nuid": "7bb590b5-2105-43b8-9635-ee17090267f5",
     "showTitle": true,
     "title": "Criação de uma nova coluna e explode em uma coluna com o valor array"
    }
   },
   "outputs": [
    {
     "data": {
      "text/html": [
       "<style scoped>\n",
       "  .table-result-container {\n",
       "    max-height: 300px;\n",
       "    overflow: auto;\n",
       "  }\n",
       "  table, th, td {\n",
       "    border: 1px solid black;\n",
       "    border-collapse: collapse;\n",
       "  }\n",
       "  th, td {\n",
       "    padding: 5px;\n",
       "  }\n",
       "  th {\n",
       "    text-align: left;\n",
       "  }\n",
       "</style><div class='table-result-container'><table class='table-result'><thead style='background-color: white'><tr><th>firstname</th><th>point</th><th>status</th></tr></thead><tbody><tr><td>Kenny</td><td>50</td><td>Active</td></tr><tr><td>Kenny</td><td>90</td><td>Active</td></tr><tr><td>Kenny</td><td>80</td><td>Active</td></tr><tr><td>Elis</td><td>10</td><td>Inactive</td></tr><tr><td>Elis</td><td>56</td><td>Inactive</td></tr><tr><td>Elis</td><td>43</td><td>Inactive</td></tr><tr><td>Elis</td><td>20</td><td>Inactive</td></tr><tr><td>Myck</td><td>18</td><td>Active</td></tr><tr><td>Myck</td><td>50</td><td>Active</td></tr><tr><td>Myck</td><td>32</td><td>Active</td></tr><tr><td>Edson</td><td>60</td><td>Active</td></tr><tr><td>Edson</td><td>87</td><td>Active</td></tr><tr><td>Edson</td><td>3</td><td>Active</td></tr></tbody></table></div>"
      ]
     },
     "metadata": {
      "application/vnd.databricks.v1+output": {
       "addedWidgets": {},
       "aggData": [],
       "aggError": "",
       "aggOverflow": false,
       "aggSchema": [],
       "aggSeriesLimitReached": false,
       "aggType": "",
       "arguments": {},
       "columnCustomDisplayInfos": {},
       "data": [
        [
         "Kenny",
         "50",
         "Active"
        ],
        [
         "Kenny",
         "90",
         "Active"
        ],
        [
         "Kenny",
         "80",
         "Active"
        ],
        [
         "Elis",
         "10",
         "Inactive"
        ],
        [
         "Elis",
         "56",
         "Inactive"
        ],
        [
         "Elis",
         "43",
         "Inactive"
        ],
        [
         "Elis",
         "20",
         "Inactive"
        ],
        [
         "Myck",
         "18",
         "Active"
        ],
        [
         "Myck",
         "50",
         "Active"
        ],
        [
         "Myck",
         "32",
         "Active"
        ],
        [
         "Edson",
         "60",
         "Active"
        ],
        [
         "Edson",
         "87",
         "Active"
        ],
        [
         "Edson",
         "3",
         "Active"
        ]
       ],
       "datasetInfos": [],
       "dbfsResultPath": null,
       "isJsonSchema": true,
       "metadata": {},
       "overflow": false,
       "plotOptions": {
        "customPlotOptions": {},
        "displayType": "table",
        "pivotAggregation": null,
        "pivotColumns": [],
        "xColumns": [],
        "yColumns": []
       },
       "removedWidgets": [],
       "schema": [
        {
         "metadata": "{}",
         "name": "firstname",
         "type": "\"string\""
        },
        {
         "metadata": "{}",
         "name": "point",
         "type": "\"string\""
        },
        {
         "metadata": "{}",
         "name": "status",
         "type": "\"string\""
        }
       ],
       "type": "table"
      }
     },
     "output_type": "display_data"
    }
   ],
   "source": [
    "df02 = (df.withColumn(\"point\", F.explode(\"points\"))\n",
    "  .select(\"firstname\",\"point\",\"user_state.status\")        \n",
    ")\n",
    "\n",
    "display(df02)"
   ]
  },
  {
   "cell_type": "code",
   "execution_count": 0,
   "metadata": {
    "application/vnd.databricks.v1+cell": {
     "inputWidgets": {},
     "nuid": "56eee46b-6eef-485a-aa7d-104dda611761",
     "showTitle": true,
     "title": "Filtro por valores de uma coluna array e criação de uma coluna com o segundo valor do array"
    }
   },
   "outputs": [
    {
     "data": {
      "text/html": [
       "<style scoped>\n",
       "  .table-result-container {\n",
       "    max-height: 300px;\n",
       "    overflow: auto;\n",
       "  }\n",
       "  table, th, td {\n",
       "    border: 1px solid black;\n",
       "    border-collapse: collapse;\n",
       "  }\n",
       "  th, td {\n",
       "    padding: 5px;\n",
       "  }\n",
       "  th {\n",
       "    text-align: left;\n",
       "  }\n",
       "</style><div class='table-result-container'><table class='table-result'><thead style='background-color: white'><tr><th>firstname</th><th>middlename</th><th>age</th><th>points</th><th>user_state</th><th>get_point</th></tr></thead><tbody><tr><td>Kenny</td><td></td><td>10</td><td>List(50, 90, 80)</td><td>Map(status -> Active)</td><td>90</td></tr><tr><td>Myck</td><td>Mendes</td><td>30</td><td>List(18, 50, 32)</td><td>Map(status -> Active)</td><td>50</td></tr></tbody></table></div>"
      ]
     },
     "metadata": {
      "application/vnd.databricks.v1+output": {
       "addedWidgets": {},
       "aggData": [],
       "aggError": "",
       "aggOverflow": false,
       "aggSchema": [],
       "aggSeriesLimitReached": false,
       "aggType": "",
       "arguments": {},
       "columnCustomDisplayInfos": {},
       "data": [
        [
         "Kenny",
         "",
         10,
         [
          "50",
          "90",
          "80"
         ],
         {
          "status": "Active"
         },
         "90"
        ],
        [
         "Myck",
         "Mendes",
         30,
         [
          "18",
          "50",
          "32"
         ],
         {
          "status": "Active"
         },
         "50"
        ]
       ],
       "datasetInfos": [],
       "dbfsResultPath": null,
       "isJsonSchema": true,
       "metadata": {},
       "overflow": false,
       "plotOptions": {
        "customPlotOptions": {},
        "displayType": "table",
        "pivotAggregation": null,
        "pivotColumns": [],
        "xColumns": [],
        "yColumns": []
       },
       "removedWidgets": [],
       "schema": [
        {
         "metadata": "{}",
         "name": "firstname",
         "type": "\"string\""
        },
        {
         "metadata": "{}",
         "name": "middlename",
         "type": "\"string\""
        },
        {
         "metadata": "{}",
         "name": "age",
         "type": "\"integer\""
        },
        {
         "metadata": "{}",
         "name": "points",
         "type": "{\"type\":\"array\",\"elementType\":\"string\",\"containsNull\":true}"
        },
        {
         "metadata": "{}",
         "name": "user_state",
         "type": "{\"type\":\"map\",\"keyType\":\"string\",\"valueType\":\"string\",\"valueContainsNull\":true}"
        },
        {
         "metadata": "{}",
         "name": "get_point",
         "type": "\"string\""
        }
       ],
       "type": "table"
      }
     },
     "output_type": "display_data"
    }
   ],
   "source": [
    "df03 = (df.filter(F.array_contains(F.col(\"points\"), \"50\")).withColumn(\"get_point\", F.element_at(F.col(\"points\"), 2)))      \n",
    "display(df03)"
   ]
  },
  {
   "cell_type": "code",
   "execution_count": 0,
   "metadata": {
    "application/vnd.databricks.v1+cell": {
     "inputWidgets": {},
     "nuid": "75def93f-5b3c-4246-aa82-8f7721025b31",
     "showTitle": true,
     "title": "Criação de uma coluna com o primeiro valor do array"
    }
   },
   "outputs": [
    {
     "data": {
      "text/html": [
       "<style scoped>\n",
       "  .table-result-container {\n",
       "    max-height: 300px;\n",
       "    overflow: auto;\n",
       "  }\n",
       "  table, th, td {\n",
       "    border: 1px solid black;\n",
       "    border-collapse: collapse;\n",
       "  }\n",
       "  th, td {\n",
       "    padding: 5px;\n",
       "  }\n",
       "  th {\n",
       "    text-align: left;\n",
       "  }\n",
       "</style><div class='table-result-container'><table class='table-result'><thead style='background-color: white'><tr><th>firstname</th><th>middlename</th><th>age</th><th>points</th><th>user_state</th><th>get_point</th></tr></thead><tbody><tr><td>Kenny</td><td></td><td>10</td><td>List(50, 90, 80)</td><td>Map(status -> Active)</td><td>50</td></tr><tr><td>Elis</td><td>Robert</td><td>20</td><td>List(10, 56, 43, 20)</td><td>Map(status -> Inactive)</td><td>10</td></tr><tr><td>Myck</td><td>Mendes</td><td>30</td><td>List(18, 50, 32)</td><td>Map(status -> Active)</td><td>18</td></tr><tr><td>Edson</td><td>Eliot</td><td>40</td><td>List(60, 87, 3)</td><td>Map(status -> Active)</td><td>60</td></tr></tbody></table></div>"
      ]
     },
     "metadata": {
      "application/vnd.databricks.v1+output": {
       "addedWidgets": {},
       "aggData": [],
       "aggError": "",
       "aggOverflow": false,
       "aggSchema": [],
       "aggSeriesLimitReached": false,
       "aggType": "",
       "arguments": {},
       "columnCustomDisplayInfos": {},
       "data": [
        [
         "Kenny",
         "",
         10,
         [
          "50",
          "90",
          "80"
         ],
         {
          "status": "Active"
         },
         "50"
        ],
        [
         "Elis",
         "Robert",
         20,
         [
          "10",
          "56",
          "43",
          "20"
         ],
         {
          "status": "Inactive"
         },
         "10"
        ],
        [
         "Myck",
         "Mendes",
         30,
         [
          "18",
          "50",
          "32"
         ],
         {
          "status": "Active"
         },
         "18"
        ],
        [
         "Edson",
         "Eliot",
         40,
         [
          "60",
          "87",
          "3"
         ],
         {
          "status": "Active"
         },
         "60"
        ]
       ],
       "datasetInfos": [],
       "dbfsResultPath": null,
       "isJsonSchema": true,
       "metadata": {},
       "overflow": false,
       "plotOptions": {
        "customPlotOptions": {},
        "displayType": "table",
        "pivotAggregation": null,
        "pivotColumns": [],
        "xColumns": [],
        "yColumns": []
       },
       "removedWidgets": [],
       "schema": [
        {
         "metadata": "{}",
         "name": "firstname",
         "type": "\"string\""
        },
        {
         "metadata": "{}",
         "name": "middlename",
         "type": "\"string\""
        },
        {
         "metadata": "{}",
         "name": "age",
         "type": "\"integer\""
        },
        {
         "metadata": "{}",
         "name": "points",
         "type": "{\"type\":\"array\",\"elementType\":\"string\",\"containsNull\":true}"
        },
        {
         "metadata": "{}",
         "name": "user_state",
         "type": "{\"type\":\"map\",\"keyType\":\"string\",\"valueType\":\"string\",\"valueContainsNull\":true}"
        },
        {
         "metadata": "{}",
         "name": "get_point",
         "type": "\"string\""
        }
       ],
       "type": "table"
      }
     },
     "output_type": "display_data"
    }
   ],
   "source": [
    "df04 = df.withColumn(\"get_point\", F.element_at(F.col(\"points\"), 1))\n",
    "display(df04)"
   ]
  },
  {
   "cell_type": "code",
   "execution_count": 0,
   "metadata": {
    "application/vnd.databricks.v1+cell": {
     "inputWidgets": {},
     "nuid": "b2b6bfcd-705d-4b88-8bcd-0191d015bd96",
     "showTitle": true,
     "title": "Agrupamento por status e agregação por pontos"
    }
   },
   "outputs": [
    {
     "data": {
      "text/html": [
       "<style scoped>\n",
       "  .table-result-container {\n",
       "    max-height: 300px;\n",
       "    overflow: auto;\n",
       "  }\n",
       "  table, th, td {\n",
       "    border: 1px solid black;\n",
       "    border-collapse: collapse;\n",
       "  }\n",
       "  th, td {\n",
       "    padding: 5px;\n",
       "  }\n",
       "  th {\n",
       "    text-align: left;\n",
       "  }\n",
       "</style><div class='table-result-container'><table class='table-result'><thead style='background-color: white'><tr><th>status</th><th>Points</th></tr></thead><tbody><tr><td>Active</td><td>List(60, 50, 18)</td></tr><tr><td>Inactive</td><td>List(10)</td></tr></tbody></table></div>"
      ]
     },
     "metadata": {
      "application/vnd.databricks.v1+output": {
       "addedWidgets": {},
       "aggData": [],
       "aggError": "",
       "aggOverflow": false,
       "aggSchema": [],
       "aggSeriesLimitReached": false,
       "aggType": "",
       "arguments": {},
       "columnCustomDisplayInfos": {},
       "data": [
        [
         "Active",
         [
          "60",
          "50",
          "18"
         ]
        ],
        [
         "Inactive",
         [
          "10"
         ]
        ]
       ],
       "datasetInfos": [],
       "dbfsResultPath": null,
       "isJsonSchema": true,
       "metadata": {},
       "overflow": false,
       "plotOptions": {
        "customPlotOptions": {},
        "displayType": "table",
        "pivotAggregation": null,
        "pivotColumns": [],
        "xColumns": [],
        "yColumns": []
       },
       "removedWidgets": [],
       "schema": [
        {
         "metadata": "{}",
         "name": "status",
         "type": "\"string\""
        },
        {
         "metadata": "{}",
         "name": "Points",
         "type": "{\"type\":\"array\",\"elementType\":\"string\",\"containsNull\":false}"
        }
       ],
       "type": "table"
      }
     },
     "output_type": "display_data"
    }
   ],
   "source": [
    "df05 = (df04.groupBy(\"user_state.status\")\n",
    "  .agg(F.collect_set(\"get_point\").alias(\"Points\"))\n",
    ")\n",
    "display(df05)"
   ]
  },
  {
   "cell_type": "code",
   "execution_count": 0,
   "metadata": {
    "application/vnd.databricks.v1+cell": {
     "inputWidgets": {},
     "nuid": "4c55d40f-e68e-449f-a671-f9509d1b65df",
     "showTitle": true,
     "title": "Renomear coluna"
    }
   },
   "outputs": [],
   "source": [
    "df05 = df05.withColumnRenamed(\"Points\",\"New_Points\")"
   ]
  },
  {
   "cell_type": "code",
   "execution_count": 0,
   "metadata": {
    "application/vnd.databricks.v1+cell": {
     "inputWidgets": {},
     "nuid": "69affe18-9a20-41eb-b092-02179c77c428",
     "showTitle": false,
     "title": ""
    }
   },
   "outputs": [
    {
     "data": {
      "text/plain": [
       "+--------+------------+\n",
       "|status  |New_Points  |\n",
       "+--------+------------+\n",
       "|Active  |[60, 50, 18]|\n",
       "|Inactive|[10]        |\n",
       "+--------+------------+\n",
       "\n"
      ]
     },
     "metadata": {
      "application/vnd.databricks.v1+output": {
       "addedWidgets": {},
       "arguments": {},
       "data": "+--------+------------+\n|status  |New_Points  |\n+--------+------------+\n|Active  |[60, 50, 18]|\n|Inactive|[10]        |\n+--------+------------+\n\n",
       "datasetInfos": [],
       "metadata": {},
       "removedWidgets": [],
       "type": "ansi"
      }
     },
     "output_type": "display_data"
    }
   ],
   "source": [
    "df05.show(truncate=False)"
   ]
  }
 ],
 "metadata": {
  "application/vnd.databricks.v1+notebook": {
   "dashboards": [],
   "language": "python",
   "notebookMetadata": {
    "pythonIndentUnit": 4
   },
   "notebookName": "aula11_dados_complexos",
   "notebookOrigID": 3261836255703003,
   "widgets": {}
  },
  "kernelspec": {
   "display_name": "Python 3 (ipykernel)",
   "language": "python",
   "name": "python3"
  },
  "language_info": {
   "codemirror_mode": {
    "name": "ipython",
    "version": 3
   },
   "file_extension": ".py",
   "mimetype": "text/x-python",
   "name": "python",
   "nbconvert_exporter": "python",
   "pygments_lexer": "ipython3",
   "version": "3.9.7"
  }
 },
 "nbformat": 4,
 "nbformat_minor": 1
}
